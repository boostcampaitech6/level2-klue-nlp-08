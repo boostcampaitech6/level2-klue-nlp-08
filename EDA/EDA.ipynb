{
 "cells": [
  {
   "cell_type": "code",
   "execution_count": 8,
   "metadata": {},
   "outputs": [
    {
     "name": "stdout",
     "output_type": "stream",
     "text": [
      "Collecting matplotlib\n",
      "  Downloading matplotlib-3.7.4-cp38-cp38-manylinux_2_12_x86_64.manylinux2010_x86_64.whl (9.2 MB)\n",
      "\u001b[K     |████████████████████████████████| 9.2 MB 1.6 MB/s eta 0:00:01\n",
      "\u001b[?25hRequirement already satisfied: python-dateutil>=2.7 in /opt/conda/lib/python3.8/site-packages (from matplotlib) (2.8.2)\n",
      "Collecting kiwisolver>=1.0.1\n",
      "  Downloading kiwisolver-1.4.5-cp38-cp38-manylinux_2_5_x86_64.manylinux1_x86_64.whl (1.2 MB)\n",
      "\u001b[K     |████████████████████████████████| 1.2 MB 59.4 MB/s eta 0:00:01\n",
      "\u001b[?25hCollecting contourpy>=1.0.1\n",
      "  Downloading contourpy-1.1.1-cp38-cp38-manylinux_2_17_x86_64.manylinux2014_x86_64.whl (301 kB)\n",
      "\u001b[K     |████████████████████████████████| 301 kB 67.0 MB/s eta 0:00:01\n",
      "\u001b[?25hRequirement already satisfied: pyparsing>=2.3.1 in /opt/conda/lib/python3.8/site-packages (from matplotlib) (2.4.7)\n",
      "Requirement already satisfied: pillow>=6.2.0 in /opt/conda/lib/python3.8/site-packages (from matplotlib) (8.1.0)\n",
      "Collecting cycler>=0.10\n",
      "  Downloading cycler-0.12.1-py3-none-any.whl (8.3 kB)\n",
      "Collecting fonttools>=4.22.0\n",
      "  Downloading fonttools-4.47.0-cp38-cp38-manylinux_2_17_x86_64.manylinux2014_x86_64.whl (4.7 MB)\n",
      "\u001b[K     |████████████████████████████████| 4.7 MB 73.4 MB/s eta 0:00:01\n",
      "\u001b[?25hCollecting importlib-resources>=3.2.0; python_version < \"3.10\"\n",
      "  Downloading importlib_resources-6.1.1-py3-none-any.whl (33 kB)\n",
      "Requirement already satisfied: numpy<2,>=1.20 in /opt/conda/lib/python3.8/site-packages (from matplotlib) (1.24.4)\n",
      "Requirement already satisfied: packaging>=20.0 in /opt/conda/lib/python3.8/site-packages (from matplotlib) (21.0)\n",
      "Requirement already satisfied: six>=1.5 in /opt/conda/lib/python3.8/site-packages (from python-dateutil>=2.7->matplotlib) (1.15.0)\n",
      "Collecting zipp>=3.1.0; python_version < \"3.10\"\n",
      "  Downloading zipp-3.17.0-py3-none-any.whl (7.4 kB)\n",
      "Installing collected packages: kiwisolver, contourpy, cycler, fonttools, zipp, importlib-resources, matplotlib\n",
      "Successfully installed contourpy-1.1.1 cycler-0.12.1 fonttools-4.47.0 importlib-resources-6.1.1 kiwisolver-1.4.5 matplotlib-3.7.4 zipp-3.17.0\n"
     ]
    }
   ],
   "source": [
    "! pip install matplotlib"
   ]
  },
  {
   "cell_type": "code",
   "execution_count": 183,
   "metadata": {},
   "outputs": [],
   "source": [
    "import torch\n",
    "import pandas as pd\n",
    "import numpy as np\n",
    "import re\n",
    "import matplotlib.pyplot as plt"
   ]
  },
  {
   "cell_type": "code",
   "execution_count": 10,
   "metadata": {},
   "outputs": [],
   "source": [
    "train_data = pd.read_csv(\"../dataset/train/train.csv\")\n",
    "test_data = pd.read_csv(\"../dataset/test/test_data.csv\")"
   ]
  },
  {
   "cell_type": "markdown",
   "metadata": {},
   "source": [
    "# 1. 훑어 보기"
   ]
  },
  {
   "cell_type": "markdown",
   "metadata": {},
   "source": [
    "## 1-1. 훑어 보기"
   ]
  },
  {
   "cell_type": "code",
   "execution_count": 11,
   "metadata": {},
   "outputs": [
    {
     "data": {
      "text/html": [
       "<div>\n",
       "<style scoped>\n",
       "    .dataframe tbody tr th:only-of-type {\n",
       "        vertical-align: middle;\n",
       "    }\n",
       "\n",
       "    .dataframe tbody tr th {\n",
       "        vertical-align: top;\n",
       "    }\n",
       "\n",
       "    .dataframe thead th {\n",
       "        text-align: right;\n",
       "    }\n",
       "</style>\n",
       "<table border=\"1\" class=\"dataframe\">\n",
       "  <thead>\n",
       "    <tr style=\"text-align: right;\">\n",
       "      <th></th>\n",
       "      <th>id</th>\n",
       "      <th>sentence</th>\n",
       "      <th>subject_entity</th>\n",
       "      <th>object_entity</th>\n",
       "      <th>label</th>\n",
       "      <th>source</th>\n",
       "    </tr>\n",
       "  </thead>\n",
       "  <tbody>\n",
       "    <tr>\n",
       "      <th>0</th>\n",
       "      <td>0</td>\n",
       "      <td>〈Something〉는 조지 해리슨이 쓰고 비틀즈가 1969년 앨범 《Abbey R...</td>\n",
       "      <td>{'word': '비틀즈', 'start_idx': 24, 'end_idx': 26...</td>\n",
       "      <td>{'word': '조지 해리슨', 'start_idx': 13, 'end_idx':...</td>\n",
       "      <td>no_relation</td>\n",
       "      <td>wikipedia</td>\n",
       "    </tr>\n",
       "    <tr>\n",
       "      <th>1</th>\n",
       "      <td>1</td>\n",
       "      <td>호남이 기반인 바른미래당·대안신당·민주평화당이 우여곡절 끝에 합당해 민생당(가칭)으...</td>\n",
       "      <td>{'word': '민주평화당', 'start_idx': 19, 'end_idx': ...</td>\n",
       "      <td>{'word': '대안신당', 'start_idx': 14, 'end_idx': 1...</td>\n",
       "      <td>no_relation</td>\n",
       "      <td>wikitree</td>\n",
       "    </tr>\n",
       "    <tr>\n",
       "      <th>2</th>\n",
       "      <td>2</td>\n",
       "      <td>K리그2에서 성적 1위를 달리고 있는 광주FC는 지난 26일 한국프로축구연맹으로부터...</td>\n",
       "      <td>{'word': '광주FC', 'start_idx': 21, 'end_idx': 2...</td>\n",
       "      <td>{'word': '한국프로축구연맹', 'start_idx': 34, 'end_idx...</td>\n",
       "      <td>org:member_of</td>\n",
       "      <td>wikitree</td>\n",
       "    </tr>\n",
       "    <tr>\n",
       "      <th>3</th>\n",
       "      <td>3</td>\n",
       "      <td>균일가 생활용품점 (주)아성다이소(대표 박정부)는 코로나19 바이러스로 어려움을 겪...</td>\n",
       "      <td>{'word': '아성다이소', 'start_idx': 13, 'end_idx': ...</td>\n",
       "      <td>{'word': '박정부', 'start_idx': 22, 'end_idx': 24...</td>\n",
       "      <td>org:top_members/employees</td>\n",
       "      <td>wikitree</td>\n",
       "    </tr>\n",
       "    <tr>\n",
       "      <th>4</th>\n",
       "      <td>4</td>\n",
       "      <td>1967년 프로 야구 드래프트 1순위로 요미우리 자이언츠에게 입단하면서 등번호는 8...</td>\n",
       "      <td>{'word': '요미우리 자이언츠', 'start_idx': 22, 'end_id...</td>\n",
       "      <td>{'word': '1967', 'start_idx': 0, 'end_idx': 3,...</td>\n",
       "      <td>no_relation</td>\n",
       "      <td>wikipedia</td>\n",
       "    </tr>\n",
       "  </tbody>\n",
       "</table>\n",
       "</div>"
      ],
      "text/plain": [
       "   id                                           sentence  \\\n",
       "0   0  〈Something〉는 조지 해리슨이 쓰고 비틀즈가 1969년 앨범 《Abbey R...   \n",
       "1   1  호남이 기반인 바른미래당·대안신당·민주평화당이 우여곡절 끝에 합당해 민생당(가칭)으...   \n",
       "2   2  K리그2에서 성적 1위를 달리고 있는 광주FC는 지난 26일 한국프로축구연맹으로부터...   \n",
       "3   3  균일가 생활용품점 (주)아성다이소(대표 박정부)는 코로나19 바이러스로 어려움을 겪...   \n",
       "4   4  1967년 프로 야구 드래프트 1순위로 요미우리 자이언츠에게 입단하면서 등번호는 8...   \n",
       "\n",
       "                                      subject_entity  \\\n",
       "0  {'word': '비틀즈', 'start_idx': 24, 'end_idx': 26...   \n",
       "1  {'word': '민주평화당', 'start_idx': 19, 'end_idx': ...   \n",
       "2  {'word': '광주FC', 'start_idx': 21, 'end_idx': 2...   \n",
       "3  {'word': '아성다이소', 'start_idx': 13, 'end_idx': ...   \n",
       "4  {'word': '요미우리 자이언츠', 'start_idx': 22, 'end_id...   \n",
       "\n",
       "                                       object_entity  \\\n",
       "0  {'word': '조지 해리슨', 'start_idx': 13, 'end_idx':...   \n",
       "1  {'word': '대안신당', 'start_idx': 14, 'end_idx': 1...   \n",
       "2  {'word': '한국프로축구연맹', 'start_idx': 34, 'end_idx...   \n",
       "3  {'word': '박정부', 'start_idx': 22, 'end_idx': 24...   \n",
       "4  {'word': '1967', 'start_idx': 0, 'end_idx': 3,...   \n",
       "\n",
       "                       label     source  \n",
       "0                no_relation  wikipedia  \n",
       "1                no_relation   wikitree  \n",
       "2              org:member_of   wikitree  \n",
       "3  org:top_members/employees   wikitree  \n",
       "4                no_relation  wikipedia  "
      ]
     },
     "execution_count": 11,
     "metadata": {},
     "output_type": "execute_result"
    }
   ],
   "source": [
    "train_data.head()"
   ]
  },
  {
   "cell_type": "code",
   "execution_count": 13,
   "metadata": {},
   "outputs": [
    {
     "data": {
      "text/html": [
       "<div>\n",
       "<style scoped>\n",
       "    .dataframe tbody tr th:only-of-type {\n",
       "        vertical-align: middle;\n",
       "    }\n",
       "\n",
       "    .dataframe tbody tr th {\n",
       "        vertical-align: top;\n",
       "    }\n",
       "\n",
       "    .dataframe thead th {\n",
       "        text-align: right;\n",
       "    }\n",
       "</style>\n",
       "<table border=\"1\" class=\"dataframe\">\n",
       "  <thead>\n",
       "    <tr style=\"text-align: right;\">\n",
       "      <th></th>\n",
       "      <th>id</th>\n",
       "      <th>sentence</th>\n",
       "      <th>subject_entity</th>\n",
       "      <th>object_entity</th>\n",
       "      <th>label</th>\n",
       "      <th>source</th>\n",
       "    </tr>\n",
       "  </thead>\n",
       "  <tbody>\n",
       "    <tr>\n",
       "      <th>0</th>\n",
       "      <td>0</td>\n",
       "      <td>지난 15일 MBC '탐사기획 스트레이트'가 이 사실을 보도했다.</td>\n",
       "      <td>{'word': 'MBC', 'start_idx': 7, 'end_idx': 9, ...</td>\n",
       "      <td>{'word': '탐사기획 스트레이트', 'start_idx': 12, 'end_i...</td>\n",
       "      <td>100</td>\n",
       "      <td>wikitree</td>\n",
       "    </tr>\n",
       "    <tr>\n",
       "      <th>1</th>\n",
       "      <td>1</td>\n",
       "      <td>사랑스러운 ‘프린세스 프링’의 이름은 봄의 공주님: Princess(s)Pring이...</td>\n",
       "      <td>{'word': '프린세스 프링', 'start_idx': 7, 'end_idx':...</td>\n",
       "      <td>{'word': '공주', 'start_idx': 84, 'end_idx': 85,...</td>\n",
       "      <td>100</td>\n",
       "      <td>wikipedia</td>\n",
       "    </tr>\n",
       "    <tr>\n",
       "      <th>2</th>\n",
       "      <td>2</td>\n",
       "      <td>한편, 본인(이근안)을 모델로 한 MBC 특집드라마 가 1995년 6.25 특집극으...</td>\n",
       "      <td>{'word': '경찰', 'start_idx': 121, 'end_idx': 12...</td>\n",
       "      <td>{'word': '1995년', 'start_idx': 31, 'end_idx': ...</td>\n",
       "      <td>100</td>\n",
       "      <td>wikipedia</td>\n",
       "    </tr>\n",
       "    <tr>\n",
       "      <th>3</th>\n",
       "      <td>3</td>\n",
       "      <td>정창손은 김질과 같이 대궐로 달려가 고변하며 '신은 실로 모르고 김질만 혼자 참여하...</td>\n",
       "      <td>{'word': '세조', 'start_idx': 78, 'end_idx': 79,...</td>\n",
       "      <td>{'word': '정창손', 'start_idx': 0, 'end_idx': 2, ...</td>\n",
       "      <td>100</td>\n",
       "      <td>wikipedia</td>\n",
       "    </tr>\n",
       "    <tr>\n",
       "      <th>4</th>\n",
       "      <td>4</td>\n",
       "      <td>당시 민주당 이진련 시의원은 권영진 시장에게 \"긴급 생계자금을 왜 현금으로 지원하지...</td>\n",
       "      <td>{'word': '민주당', 'start_idx': 3, 'end_idx': 5, ...</td>\n",
       "      <td>{'word': '권영진', 'start_idx': 16, 'end_idx': 18...</td>\n",
       "      <td>100</td>\n",
       "      <td>wikitree</td>\n",
       "    </tr>\n",
       "  </tbody>\n",
       "</table>\n",
       "</div>"
      ],
      "text/plain": [
       "   id                                           sentence  \\\n",
       "0   0               지난 15일 MBC '탐사기획 스트레이트'가 이 사실을 보도했다.   \n",
       "1   1  사랑스러운 ‘프린세스 프링’의 이름은 봄의 공주님: Princess(s)Pring이...   \n",
       "2   2  한편, 본인(이근안)을 모델로 한 MBC 특집드라마 가 1995년 6.25 특집극으...   \n",
       "3   3  정창손은 김질과 같이 대궐로 달려가 고변하며 '신은 실로 모르고 김질만 혼자 참여하...   \n",
       "4   4  당시 민주당 이진련 시의원은 권영진 시장에게 \"긴급 생계자금을 왜 현금으로 지원하지...   \n",
       "\n",
       "                                      subject_entity  \\\n",
       "0  {'word': 'MBC', 'start_idx': 7, 'end_idx': 9, ...   \n",
       "1  {'word': '프린세스 프링', 'start_idx': 7, 'end_idx':...   \n",
       "2  {'word': '경찰', 'start_idx': 121, 'end_idx': 12...   \n",
       "3  {'word': '세조', 'start_idx': 78, 'end_idx': 79,...   \n",
       "4  {'word': '민주당', 'start_idx': 3, 'end_idx': 5, ...   \n",
       "\n",
       "                                       object_entity  label     source  \n",
       "0  {'word': '탐사기획 스트레이트', 'start_idx': 12, 'end_i...    100   wikitree  \n",
       "1  {'word': '공주', 'start_idx': 84, 'end_idx': 85,...    100  wikipedia  \n",
       "2  {'word': '1995년', 'start_idx': 31, 'end_idx': ...    100  wikipedia  \n",
       "3  {'word': '정창손', 'start_idx': 0, 'end_idx': 2, ...    100  wikipedia  \n",
       "4  {'word': '권영진', 'start_idx': 16, 'end_idx': 18...    100   wikitree  "
      ]
     },
     "execution_count": 13,
     "metadata": {},
     "output_type": "execute_result"
    }
   ],
   "source": [
    "test_data.head()"
   ]
  },
  {
   "cell_type": "code",
   "execution_count": 169,
   "metadata": {},
   "outputs": [
    {
     "name": "stdout",
     "output_type": "stream",
     "text": [
      "학습 데이터 개수: 32470\n",
      "평가 데이터 개수: 7765\n"
     ]
    }
   ],
   "source": [
    "print(f\"학습 데이터 개수: {len(train_data)}\")\n",
    "print(f\"평가 데이터 개수: {len(test_data)}\")"
   ]
  },
  {
   "cell_type": "markdown",
   "metadata": {},
   "source": [
    "## 1-2. Null 살펴보기"
   ]
  },
  {
   "cell_type": "code",
   "execution_count": 15,
   "metadata": {},
   "outputs": [
    {
     "name": "stdout",
     "output_type": "stream",
     "text": [
      "<class 'pandas.core.frame.DataFrame'>\n",
      "RangeIndex: 32470 entries, 0 to 32469\n",
      "Data columns (total 6 columns):\n",
      " #   Column          Non-Null Count  Dtype \n",
      "---  ------          --------------  ----- \n",
      " 0   id              32470 non-null  int64 \n",
      " 1   sentence        32470 non-null  object\n",
      " 2   subject_entity  32470 non-null  object\n",
      " 3   object_entity   32470 non-null  object\n",
      " 4   label           32470 non-null  object\n",
      " 5   source          32470 non-null  object\n",
      "dtypes: int64(1), object(5)\n",
      "memory usage: 1.5+ MB\n"
     ]
    }
   ],
   "source": [
    "# 학습 데이터 null -> 없음\n",
    "train_data.info()"
   ]
  },
  {
   "cell_type": "code",
   "execution_count": 168,
   "metadata": {},
   "outputs": [
    {
     "name": "stdout",
     "output_type": "stream",
     "text": [
      "<class 'pandas.core.frame.DataFrame'>\n",
      "RangeIndex: 7765 entries, 0 to 7764\n",
      "Data columns (total 6 columns):\n",
      " #   Column          Non-Null Count  Dtype \n",
      "---  ------          --------------  ----- \n",
      " 0   id              7765 non-null   int64 \n",
      " 1   sentence        7765 non-null   object\n",
      " 2   subject_entity  7765 non-null   object\n",
      " 3   object_entity   7765 non-null   object\n",
      " 4   label           7765 non-null   int64 \n",
      " 5   source          7765 non-null   object\n",
      "dtypes: int64(2), object(4)\n",
      "memory usage: 364.1+ KB\n"
     ]
    }
   ],
   "source": [
    "# 평가 데이터 null -> 없음\n",
    "test_data.info()"
   ]
  },
  {
   "cell_type": "markdown",
   "metadata": {},
   "source": [
    "## 1-3. label 살펴보기 "
   ]
  },
  {
   "cell_type": "markdown",
   "metadata": {},
   "source": [
    "micro F1 score -> no_relation 을 제외한 샘플이 가장 많은 클래스에 가장 많은 가중치를 부여한다."
   ]
  },
  {
   "cell_type": "code",
   "execution_count": 182,
   "metadata": {},
   "outputs": [
    {
     "name": "stdout",
     "output_type": "stream",
     "text": [
      "학습 데이터의 label 개수: 30\n",
      "평가 데이터의 label : 100 으로 임의 표현\n"
     ]
    }
   ],
   "source": [
    "# label 의 개수\n",
    "print(f\"학습 데이터의 label 개수: {len(train_data['label'].unique())}\")\n",
    "print(f\"평가 데이터의 label : 100 으로 임의 표현\")"
   ]
  },
  {
   "cell_type": "code",
   "execution_count": 177,
   "metadata": {},
   "outputs": [
    {
     "data": {
      "text/plain": [
       "label\n",
       "no_relation                            9534\n",
       "org:top_members/employees              4284\n",
       "per:employee_of                        3573\n",
       "per:title                              2103\n",
       "org:member_of                          1866\n",
       "org:alternate_names                    1320\n",
       "per:origin                             1234\n",
       "org:place_of_headquarters              1195\n",
       "per:date_of_birth                      1130\n",
       "per:alternate_names                    1001\n",
       "per:spouse                              795\n",
       "per:colleagues                          534\n",
       "per:parents                             520\n",
       "org:founded                             450\n",
       "org:members                             420\n",
       "per:date_of_death                       418\n",
       "org:product                             380\n",
       "per:children                            304\n",
       "per:place_of_residence                  193\n",
       "per:other_family                        190\n",
       "per:place_of_birth                      166\n",
       "org:founded_by                          155\n",
       "per:product                             139\n",
       "per:siblings                            136\n",
       "org:political/religious_affiliation      98\n",
       "per:religion                             96\n",
       "per:schools_attended                     82\n",
       "org:dissolved                            66\n",
       "org:number_of_employees/members          48\n",
       "per:place_of_death                       40\n",
       "Name: count, dtype: int64"
      ]
     },
     "execution_count": 177,
     "metadata": {},
     "output_type": "execute_result"
    }
   ],
   "source": [
    "train_data['label'].value_counts()"
   ]
  },
  {
   "cell_type": "code",
   "execution_count": 180,
   "metadata": {},
   "outputs": [
    {
     "data": {
      "image/png": "[encoded data removed]",
      "text/plain": [
       "<Figure size 432x288 with 1 Axes>"
      ]
     },
     "metadata": {},
     "output_type": "display_data"
    }
   ],
   "source": [
    "labels = {'no_relation': 0, 'org': 0, 'per': 0}\n",
    "\n",
    "for label in train_data['label']:\n",
    "  if label != 'no_relation':\n",
    "    labels[label[:3]] += 1\n",
    "  else:\n",
    "    labels[label] += 1\n",
    "\n",
    "x = np.arange(3)\n",
    "plt.pie([num/32470 for num in labels.values()],labels=labels.keys(), autopct='%.1f%%')\n",
    "plt.show()"
   ]
  },
  {
   "cell_type": "markdown",
   "metadata": {},
   "source": [
    "## 1-4. 문장 길이 "
   ]
  },
  {
   "cell_type": "code",
   "execution_count": 195,
   "metadata": {},
   "outputs": [
    {
     "name": "stdout",
     "output_type": "stream",
     "text": [
      "최소 문장 길이: 14\n",
      "최대 문장 길이: 455\n",
      "문장 평균 길이:  97.1\n"
     ]
    }
   ],
   "source": [
    "min_len = float('inf')\n",
    "max_len = 0\n",
    "total_len = 0\n",
    "lengs = []\n",
    "for sentence in train_data['sentence']:\n",
    "    leng = len(sentence)\n",
    "    total_len += leng\n",
    "    lengs.append(leng)\n",
    "    \n",
    "    if min_len > leng:\n",
    "        min_len = leng\n",
    "    if max_len < leng:\n",
    "        max_len = leng\n",
    "    \n",
    "print(f'최소 문장 길이: {min_len}')\n",
    "print(f'최대 문장 길이: {max_len}')\n",
    "print(f'문장 평균 길이: {total_len/len(train_data): .1f}')"
   ]
  },
  {
   "cell_type": "code",
   "execution_count": 197,
   "metadata": {},
   "outputs": [
    {
     "data": {
      "image/png": "[encoded data removed]",
      "text/plain": [
       "<Figure size 432x288 with 1 Axes>"
      ]
     },
     "metadata": {
      "needs_background": "light"
     },
     "output_type": "display_data"
    }
   ],
   "source": [
    "x_values = range(len(train_data))\n",
    "plt.scatter(x_values, lengs)\n",
    "plt.show()"
   ]
  },
  {
   "cell_type": "markdown",
   "metadata": {},
   "source": [
    "## 1-5. 중복 데이터 확인"
   ]
  },
  {
   "cell_type": "code",
   "execution_count": 17,
   "metadata": {},
   "outputs": [
    {
     "data": {
      "text/plain": [
       "id                32470\n",
       "sentence          28803\n",
       "subject_entity    26340\n",
       "object_entity     25704\n",
       "label                30\n",
       "source                3\n",
       "dtype: int64"
      ]
     },
     "execution_count": 17,
     "metadata": {},
     "output_type": "execute_result"
    }
   ],
   "source": [
    "train_data.nunique()"
   ]
  },
  {
   "cell_type": "code",
   "execution_count": 18,
   "metadata": {},
   "outputs": [
    {
     "data": {
      "text/plain": [
       "id                7765\n",
       "sentence          7764\n",
       "subject_entity    6758\n",
       "object_entity     7162\n",
       "label                1\n",
       "source               3\n",
       "dtype: int64"
      ]
     },
     "execution_count": 18,
     "metadata": {},
     "output_type": "execute_result"
    }
   ],
   "source": [
    "test_data.nunique()"
   ]
  },
  {
   "cell_type": "markdown",
   "metadata": {},
   "source": [
    "특이사항 : train dataset 의 sentence 에 중복이 존재한다."
   ]
  },
  {
   "cell_type": "markdown",
   "metadata": {},
   "source": [
    "# 2. 중복 "
   ]
  },
  {
   "cell_type": "markdown",
   "metadata": {},
   "source": [
    "## 2-1. 가설 설정"
   ]
  },
  {
   "cell_type": "markdown",
   "metadata": {},
   "source": [
    "중복되는 sentence 는 subject_entity, object_entity 와 label 도 동일할 것이다."
   ]
  },
  {
   "cell_type": "markdown",
   "metadata": {},
   "source": [
    "## 2-2. 가설 검증"
   ]
  },
  {
   "cell_type": "code",
   "execution_count": 41,
   "metadata": {},
   "outputs": [],
   "source": [
    "def duplicated(data, subset, keep=False):\n",
    "    return data.duplicated(keep=keep, subset=subset)"
   ]
  },
  {
   "cell_type": "code",
   "execution_count": 198,
   "metadata": {},
   "outputs": [
    {
     "name": "stdout",
     "output_type": "stream",
     "text": [
      "sentence 가 중복되는 데이터의 수: 7090\n",
      "sentence, subject_entity 와 object_entity 가 동일한 데이터의 수: 93\n",
      "sentence, subject-entity, object_entity 와 label 이 동일한 데이터의 수: 84\n"
     ]
    }
   ],
   "source": [
    "print(f'sentence 가 중복되는 데이터의 수: {sum(duplicated(train_data, [\"sentence\"]))}')\n",
    "print(f'sentence, subject_entity 와 object_entity 가 동일한 데이터의 수: {sum(duplicated(train_data,[\"sentence\", \"subject_entity\", \"object_entity\"]))}')\n",
    "print(f'sentence, subject-entity, object_entity 와 label 이 동일한 데이터의 수: {sum(duplicated(train_data, [\"sentence\",\"subject_entity\",\"object_entity\", \"label\"]))}')"
   ]
  },
  {
   "cell_type": "code",
   "execution_count": 75,
   "metadata": {},
   "outputs": [],
   "source": [
    "sso = train_data[duplicated(train_data,[\"sentence\", \"subject_entity\", \"object_entity\"])]\n",
    "ssol = sso_indcies = train_data[duplicated(train_data,[\"sentence\", \"subject_entity\", \"object_entity\", \"label\"])]"
   ]
  },
  {
   "cell_type": "code",
   "execution_count": 79,
   "metadata": {},
   "outputs": [
    {
     "data": {
      "text/html": [
       "<div>\n",
       "<style scoped>\n",
       "    .dataframe tbody tr th:only-of-type {\n",
       "        vertical-align: middle;\n",
       "    }\n",
       "\n",
       "    .dataframe tbody tr th {\n",
       "        vertical-align: top;\n",
       "    }\n",
       "\n",
       "    .dataframe thead th {\n",
       "        text-align: right;\n",
       "    }\n",
       "</style>\n",
       "<table border=\"1\" class=\"dataframe\">\n",
       "  <thead>\n",
       "    <tr style=\"text-align: right;\">\n",
       "      <th></th>\n",
       "      <th>id</th>\n",
       "      <th>sentence</th>\n",
       "      <th>subject_entity</th>\n",
       "      <th>object_entity</th>\n",
       "      <th>label</th>\n",
       "      <th>source</th>\n",
       "    </tr>\n",
       "  </thead>\n",
       "  <tbody>\n",
       "    <tr>\n",
       "      <th>22090</th>\n",
       "      <td>22090</td>\n",
       "      <td>1959-60 시즌 이후의 알파 에트니키 / 수페르리가 엘라다, 그리스 컵, 그리고...</td>\n",
       "      <td>{'word': '수페르리가 엘라다', 'start_idx': 25, 'end_id...</td>\n",
       "      <td>{'word': '그리스', 'start_idx': 36, 'end_idx': 38...</td>\n",
       "      <td>no_relation</td>\n",
       "      <td>wikipedia</td>\n",
       "    </tr>\n",
       "    <tr>\n",
       "      <th>9618</th>\n",
       "      <td>9618</td>\n",
       "      <td>1959-60 시즌 이후의 알파 에트니키 / 수페르리가 엘라다, 그리스 컵, 그리고...</td>\n",
       "      <td>{'word': '수페르리가 엘라다', 'start_idx': 25, 'end_id...</td>\n",
       "      <td>{'word': '그리스', 'start_idx': 36, 'end_idx': 38...</td>\n",
       "      <td>no_relation</td>\n",
       "      <td>wikipedia</td>\n",
       "    </tr>\n",
       "    <tr>\n",
       "      <th>25368</th>\n",
       "      <td>25368</td>\n",
       "      <td>2001년 4월 민주국민당 김윤환 의원과 민주당 의원 사이의 정책 연합과 관련한 통...</td>\n",
       "      <td>{'word': '민주국민당', 'start_idx': 9, 'end_idx': 1...</td>\n",
       "      <td>{'word': '민주당', 'start_idx': 23, 'end_idx': 25...</td>\n",
       "      <td>no_relation</td>\n",
       "      <td>wikipedia</td>\n",
       "    </tr>\n",
       "    <tr>\n",
       "      <th>2500</th>\n",
       "      <td>2500</td>\n",
       "      <td>2001년 4월 민주국민당 김윤환 의원과 민주당 의원 사이의 정책 연합과 관련한 통...</td>\n",
       "      <td>{'word': '민주국민당', 'start_idx': 9, 'end_idx': 1...</td>\n",
       "      <td>{'word': '민주당', 'start_idx': 23, 'end_idx': 25...</td>\n",
       "      <td>no_relation</td>\n",
       "      <td>wikipedia</td>\n",
       "    </tr>\n",
       "    <tr>\n",
       "      <th>3547</th>\n",
       "      <td>3547</td>\n",
       "      <td>2010년 10월 15일 전라북도청을 방문한 맹형규 행정안전부 장관은 도내 지자체간...</td>\n",
       "      <td>{'word': '전라북도청', 'start_idx': 14, 'end_idx': ...</td>\n",
       "      <td>{'word': '행정안전부', 'start_idx': 29, 'end_idx': ...</td>\n",
       "      <td>no_relation</td>\n",
       "      <td>wikipedia</td>\n",
       "    </tr>\n",
       "    <tr>\n",
       "      <th>...</th>\n",
       "      <td>...</td>\n",
       "      <td>...</td>\n",
       "      <td>...</td>\n",
       "      <td>...</td>\n",
       "      <td>...</td>\n",
       "      <td>...</td>\n",
       "    </tr>\n",
       "    <tr>\n",
       "      <th>27325</th>\n",
       "      <td>27325</td>\n",
       "      <td>펀치넬로는 10cm의 권정열이 피처링으로 참여한 '미안해서 미안해'로 무대에 올랐다.</td>\n",
       "      <td>{'word': '권정열', 'start_idx': 12, 'end_idx': 14...</td>\n",
       "      <td>{'word': '10cm', 'start_idx': 6, 'end_idx': 9,...</td>\n",
       "      <td>per:employee_of</td>\n",
       "      <td>wikitree</td>\n",
       "    </tr>\n",
       "    <tr>\n",
       "      <th>14658</th>\n",
       "      <td>14658</td>\n",
       "      <td>함연지는 함영준 오뚜기 회장의 장녀다.</td>\n",
       "      <td>{'word': '오뚜기', 'start_idx': 9, 'end_idx': 11,...</td>\n",
       "      <td>{'word': '함영준', 'start_idx': 5, 'end_idx': 7, ...</td>\n",
       "      <td>org:top_members/employees</td>\n",
       "      <td>wikitree</td>\n",
       "    </tr>\n",
       "    <tr>\n",
       "      <th>6936</th>\n",
       "      <td>6936</td>\n",
       "      <td>함연지는 함영준 오뚜기 회장의 장녀다.</td>\n",
       "      <td>{'word': '오뚜기', 'start_idx': 9, 'end_idx': 11,...</td>\n",
       "      <td>{'word': '함영준', 'start_idx': 5, 'end_idx': 7, ...</td>\n",
       "      <td>org:top_members/employees</td>\n",
       "      <td>wikitree</td>\n",
       "    </tr>\n",
       "    <tr>\n",
       "      <th>20898</th>\n",
       "      <td>20898</td>\n",
       "      <td>화려한 재기를 뒤로하고 고(故) 안재환에게 돈을 빌려줬다는 루머로 마음고생을 하던 ...</td>\n",
       "      <td>{'word': '최진실', 'start_idx': 46, 'end_idx': 48...</td>\n",
       "      <td>{'word': '2008년 10월 2일', 'start_idx': 51, 'end...</td>\n",
       "      <td>per:date_of_death</td>\n",
       "      <td>wikitree</td>\n",
       "    </tr>\n",
       "    <tr>\n",
       "      <th>4248</th>\n",
       "      <td>4248</td>\n",
       "      <td>화려한 재기를 뒤로하고 고(故) 안재환에게 돈을 빌려줬다는 루머로 마음고생을 하던 ...</td>\n",
       "      <td>{'word': '최진실', 'start_idx': 46, 'end_idx': 48...</td>\n",
       "      <td>{'word': '2008년 10월 2일', 'start_idx': 51, 'end...</td>\n",
       "      <td>per:date_of_death</td>\n",
       "      <td>wikitree</td>\n",
       "    </tr>\n",
       "  </tbody>\n",
       "</table>\n",
       "<p>84 rows × 6 columns</p>\n",
       "</div>"
      ],
      "text/plain": [
       "          id                                           sentence  \\\n",
       "22090  22090  1959-60 시즌 이후의 알파 에트니키 / 수페르리가 엘라다, 그리스 컵, 그리고...   \n",
       "9618    9618  1959-60 시즌 이후의 알파 에트니키 / 수페르리가 엘라다, 그리스 컵, 그리고...   \n",
       "25368  25368  2001년 4월 민주국민당 김윤환 의원과 민주당 의원 사이의 정책 연합과 관련한 통...   \n",
       "2500    2500  2001년 4월 민주국민당 김윤환 의원과 민주당 의원 사이의 정책 연합과 관련한 통...   \n",
       "3547    3547  2010년 10월 15일 전라북도청을 방문한 맹형규 행정안전부 장관은 도내 지자체간...   \n",
       "...      ...                                                ...   \n",
       "27325  27325    펀치넬로는 10cm의 권정열이 피처링으로 참여한 '미안해서 미안해'로 무대에 올랐다.   \n",
       "14658  14658                              함연지는 함영준 오뚜기 회장의 장녀다.   \n",
       "6936    6936                              함연지는 함영준 오뚜기 회장의 장녀다.   \n",
       "20898  20898  화려한 재기를 뒤로하고 고(故) 안재환에게 돈을 빌려줬다는 루머로 마음고생을 하던 ...   \n",
       "4248    4248  화려한 재기를 뒤로하고 고(故) 안재환에게 돈을 빌려줬다는 루머로 마음고생을 하던 ...   \n",
       "\n",
       "                                          subject_entity  \\\n",
       "22090  {'word': '수페르리가 엘라다', 'start_idx': 25, 'end_id...   \n",
       "9618   {'word': '수페르리가 엘라다', 'start_idx': 25, 'end_id...   \n",
       "25368  {'word': '민주국민당', 'start_idx': 9, 'end_idx': 1...   \n",
       "2500   {'word': '민주국민당', 'start_idx': 9, 'end_idx': 1...   \n",
       "3547   {'word': '전라북도청', 'start_idx': 14, 'end_idx': ...   \n",
       "...                                                  ...   \n",
       "27325  {'word': '권정열', 'start_idx': 12, 'end_idx': 14...   \n",
       "14658  {'word': '오뚜기', 'start_idx': 9, 'end_idx': 11,...   \n",
       "6936   {'word': '오뚜기', 'start_idx': 9, 'end_idx': 11,...   \n",
       "20898  {'word': '최진실', 'start_idx': 46, 'end_idx': 48...   \n",
       "4248   {'word': '최진실', 'start_idx': 46, 'end_idx': 48...   \n",
       "\n",
       "                                           object_entity  \\\n",
       "22090  {'word': '그리스', 'start_idx': 36, 'end_idx': 38...   \n",
       "9618   {'word': '그리스', 'start_idx': 36, 'end_idx': 38...   \n",
       "25368  {'word': '민주당', 'start_idx': 23, 'end_idx': 25...   \n",
       "2500   {'word': '민주당', 'start_idx': 23, 'end_idx': 25...   \n",
       "3547   {'word': '행정안전부', 'start_idx': 29, 'end_idx': ...   \n",
       "...                                                  ...   \n",
       "27325  {'word': '10cm', 'start_idx': 6, 'end_idx': 9,...   \n",
       "14658  {'word': '함영준', 'start_idx': 5, 'end_idx': 7, ...   \n",
       "6936   {'word': '함영준', 'start_idx': 5, 'end_idx': 7, ...   \n",
       "20898  {'word': '2008년 10월 2일', 'start_idx': 51, 'end...   \n",
       "4248   {'word': '2008년 10월 2일', 'start_idx': 51, 'end...   \n",
       "\n",
       "                           label     source  \n",
       "22090                no_relation  wikipedia  \n",
       "9618                 no_relation  wikipedia  \n",
       "25368                no_relation  wikipedia  \n",
       "2500                 no_relation  wikipedia  \n",
       "3547                 no_relation  wikipedia  \n",
       "...                          ...        ...  \n",
       "27325            per:employee_of   wikitree  \n",
       "14658  org:top_members/employees   wikitree  \n",
       "6936   org:top_members/employees   wikitree  \n",
       "20898          per:date_of_death   wikitree  \n",
       "4248           per:date_of_death   wikitree  \n",
       "\n",
       "[84 rows x 6 columns]"
      ]
     },
     "execution_count": 79,
     "metadata": {},
     "output_type": "execute_result"
    }
   ],
   "source": [
    "ssol.sort_values('sentence')"
   ]
  },
  {
   "cell_type": "code",
   "execution_count": 166,
   "metadata": {},
   "outputs": [
    {
     "data": {
      "text/html": [
       "<div>\n",
       "<style scoped>\n",
       "    .dataframe tbody tr th:only-of-type {\n",
       "        vertical-align: middle;\n",
       "    }\n",
       "\n",
       "    .dataframe tbody tr th {\n",
       "        vertical-align: top;\n",
       "    }\n",
       "\n",
       "    .dataframe thead th {\n",
       "        text-align: right;\n",
       "    }\n",
       "</style>\n",
       "<table border=\"1\" class=\"dataframe\">\n",
       "  <thead>\n",
       "    <tr style=\"text-align: right;\">\n",
       "      <th></th>\n",
       "      <th>id</th>\n",
       "      <th>sentence</th>\n",
       "      <th>subject_entity</th>\n",
       "      <th>object_entity</th>\n",
       "      <th>label</th>\n",
       "      <th>source</th>\n",
       "    </tr>\n",
       "  </thead>\n",
       "  <tbody>\n",
       "    <tr>\n",
       "      <th>17</th>\n",
       "      <td>6749</td>\n",
       "      <td>대한항공은 5일 조양호 회장의 3자녀가 보유한 싸이버스카이 주식 9만9900주 전량...</td>\n",
       "      <td>{'word': '대한항공', 'start_idx': 0, 'end_idx': 3,...</td>\n",
       "      <td>{'word': '조양호', 'start_idx': 9, 'end_idx': 11,...</td>\n",
       "      <td>no_relation</td>\n",
       "      <td>wikipedia</td>\n",
       "    </tr>\n",
       "    <tr>\n",
       "      <th>35</th>\n",
       "      <td>12829</td>\n",
       "      <td>대한항공은 5일 조양호 회장의 3자녀가 보유한 싸이버스카이 주식 9만9900주 전량...</td>\n",
       "      <td>{'word': '대한항공', 'start_idx': 0, 'end_idx': 3,...</td>\n",
       "      <td>{'word': '조양호', 'start_idx': 9, 'end_idx': 11,...</td>\n",
       "      <td>org:top_members/employees</td>\n",
       "      <td>wikipedia</td>\n",
       "    </tr>\n",
       "    <tr>\n",
       "      <th>22</th>\n",
       "      <td>8364</td>\n",
       "      <td>배우 김병철 씨가 연기하는 정복동은 천리마마트를 망하게 하기 위해 여러 계획을 세우...</td>\n",
       "      <td>{'word': '정복동', 'start_idx': 15, 'end_idx': 17...</td>\n",
       "      <td>{'word': '김병철', 'start_idx': 3, 'end_idx': 5, ...</td>\n",
       "      <td>no_relation</td>\n",
       "      <td>wikitree</td>\n",
       "    </tr>\n",
       "    <tr>\n",
       "      <th>92</th>\n",
       "      <td>32299</td>\n",
       "      <td>배우 김병철 씨가 연기하는 정복동은 천리마마트를 망하게 하기 위해 여러 계획을 세우...</td>\n",
       "      <td>{'word': '정복동', 'start_idx': 15, 'end_idx': 17...</td>\n",
       "      <td>{'word': '김병철', 'start_idx': 3, 'end_idx': 5, ...</td>\n",
       "      <td>per:alternate_names</td>\n",
       "      <td>wikitree</td>\n",
       "    </tr>\n",
       "    <tr>\n",
       "      <th>33</th>\n",
       "      <td>11511</td>\n",
       "      <td>영화 '버즈 오브 프레이'는 배트맨이 없는 고담시에서 할리퀸, 헌트리스, 블랙 카나...</td>\n",
       "      <td>{'word': '배트맨', 'start_idx': 16, 'end_idx': 18...</td>\n",
       "      <td>{'word': '고담시', 'start_idx': 24, 'end_idx': 26...</td>\n",
       "      <td>per:place_of_residence</td>\n",
       "      <td>wikitree</td>\n",
       "    </tr>\n",
       "    <tr>\n",
       "      <th>57</th>\n",
       "      <td>22258</td>\n",
       "      <td>영화 '버즈 오브 프레이'는 배트맨이 없는 고담시에서 할리퀸, 헌트리스, 블랙 카나...</td>\n",
       "      <td>{'word': '배트맨', 'start_idx': 16, 'end_idx': 18...</td>\n",
       "      <td>{'word': '고담시', 'start_idx': 24, 'end_idx': 26...</td>\n",
       "      <td>no_relation</td>\n",
       "      <td>wikitree</td>\n",
       "    </tr>\n",
       "    <tr>\n",
       "      <th>7</th>\n",
       "      <td>3296</td>\n",
       "      <td>이날 프로그램 공개에서는 전북영산작법보존회와 김명신‧정상희의 사제동행 판소리, 관악...</td>\n",
       "      <td>{'word': '강태환', 'start_idx': 62, 'end_idx': 64...</td>\n",
       "      <td>{'word': '색소폰', 'start_idx': 58, 'end_idx': 60...</td>\n",
       "      <td>per:title</td>\n",
       "      <td>wikitree</td>\n",
       "    </tr>\n",
       "    <tr>\n",
       "      <th>10</th>\n",
       "      <td>4212</td>\n",
       "      <td>한편 전라남도는 최근 확진자가 발생한 순천시와 여수시에 마스크를 각각 2만장씩 총 ...</td>\n",
       "      <td>{'word': '전라남도', 'start_idx': 3, 'end_idx': 6,...</td>\n",
       "      <td>{'word': '여수시', 'start_idx': 26, 'end_idx': 28...</td>\n",
       "      <td>org:members</td>\n",
       "      <td>wikitree</td>\n",
       "    </tr>\n",
       "    <tr>\n",
       "      <th>64</th>\n",
       "      <td>25094</td>\n",
       "      <td>한편 전라남도는 최근 확진자가 발생한 순천시와 여수시에 마스크를 각각 2만장씩 총 ...</td>\n",
       "      <td>{'word': '전라남도', 'start_idx': 3, 'end_idx': 6,...</td>\n",
       "      <td>{'word': '여수시', 'start_idx': 26, 'end_idx': 28...</td>\n",
       "      <td>org:place_of_headquarters</td>\n",
       "      <td>wikitree</td>\n",
       "    </tr>\n",
       "  </tbody>\n",
       "</table>\n",
       "</div>"
      ],
      "text/plain": [
       "       id                                           sentence                                     subject_entity                                      object_entity                      label     source\n",
       "17   6749  대한항공은 5일 조양호 회장의 3자녀가 보유한 싸이버스카이 주식 9만9900주 전량...  {'word': '대한항공', 'start_idx': 0, 'end_idx': 3,...  {'word': '조양호', 'start_idx': 9, 'end_idx': 11,...                no_relation  wikipedia\n",
       "35  12829  대한항공은 5일 조양호 회장의 3자녀가 보유한 싸이버스카이 주식 9만9900주 전량...  {'word': '대한항공', 'start_idx': 0, 'end_idx': 3,...  {'word': '조양호', 'start_idx': 9, 'end_idx': 11,...  org:top_members/employees  wikipedia\n",
       "22   8364  배우 김병철 씨가 연기하는 정복동은 천리마마트를 망하게 하기 위해 여러 계획을 세우...  {'word': '정복동', 'start_idx': 15, 'end_idx': 17...  {'word': '김병철', 'start_idx': 3, 'end_idx': 5, ...                no_relation   wikitree\n",
       "92  32299  배우 김병철 씨가 연기하는 정복동은 천리마마트를 망하게 하기 위해 여러 계획을 세우...  {'word': '정복동', 'start_idx': 15, 'end_idx': 17...  {'word': '김병철', 'start_idx': 3, 'end_idx': 5, ...        per:alternate_names   wikitree\n",
       "33  11511  영화 '버즈 오브 프레이'는 배트맨이 없는 고담시에서 할리퀸, 헌트리스, 블랙 카나...  {'word': '배트맨', 'start_idx': 16, 'end_idx': 18...  {'word': '고담시', 'start_idx': 24, 'end_idx': 26...     per:place_of_residence   wikitree\n",
       "57  22258  영화 '버즈 오브 프레이'는 배트맨이 없는 고담시에서 할리퀸, 헌트리스, 블랙 카나...  {'word': '배트맨', 'start_idx': 16, 'end_idx': 18...  {'word': '고담시', 'start_idx': 24, 'end_idx': 26...                no_relation   wikitree\n",
       "7    3296  이날 프로그램 공개에서는 전북영산작법보존회와 김명신‧정상희의 사제동행 판소리, 관악...  {'word': '강태환', 'start_idx': 62, 'end_idx': 64...  {'word': '색소폰', 'start_idx': 58, 'end_idx': 60...                  per:title   wikitree\n",
       "10   4212  한편 전라남도는 최근 확진자가 발생한 순천시와 여수시에 마스크를 각각 2만장씩 총 ...  {'word': '전라남도', 'start_idx': 3, 'end_idx': 6,...  {'word': '여수시', 'start_idx': 26, 'end_idx': 28...                org:members   wikitree\n",
       "64  25094  한편 전라남도는 최근 확진자가 발생한 순천시와 여수시에 마스크를 각각 2만장씩 총 ...  {'word': '전라남도', 'start_idx': 3, 'end_idx': 6,...  {'word': '여수시', 'start_idx': 26, 'end_idx': 28...  org:place_of_headquarters   wikitree"
      ]
     },
     "execution_count": 166,
     "metadata": {},
     "output_type": "execute_result"
    }
   ],
   "source": [
    "# sso 와 ssol 의 차집합 구하기\n",
    "df = pd.merge(sso, ssol, how='outer', indicator=True)\n",
    "df.query('_merge==\"left_only\"').drop(columns='_merge').sort_values('sentence')"
   ]
  },
  {
   "cell_type": "markdown",
   "metadata": {},
   "source": [
    "## 2-3. 검증 결과"
   ]
  },
  {
   "cell_type": "markdown",
   "metadata": {},
   "source": [
    "### Case 1: 세 데이터가 모두 다른 경우"
   ]
  },
  {
   "cell_type": "markdown",
   "metadata": {},
   "source": [
    "\"대한항공은 5일 조양호 회장의 3자녀가 보유한 싸이버스카이 주식 9만9900주 전량을 63억 원에 취득한다고 밝혔다.\"\n",
    "\n",
    "id: 6749, 7276, 12829"
   ]
  },
  {
   "cell_type": "code",
   "execution_count": 149,
   "metadata": {},
   "outputs": [],
   "source": [
    "def get_columns(data, index, columns):\n",
    "    target = data[data['id']==index]\n",
    "\n",
    "    return target[columns]"
   ]
  },
  {
   "cell_type": "code",
   "execution_count": 161,
   "metadata": {},
   "outputs": [
    {
     "data": {
      "text/plain": [
       "array([[\"{'word': '대한항공', 'start_idx': 0, 'end_idx': 3, 'type': 'ORG'}\",\n",
       "        \"{'word': '조양호', 'start_idx': 9, 'end_idx': 11, 'type': 'PER'}\",\n",
       "        'no_relation']], dtype=object)"
      ]
     },
     "metadata": {},
     "output_type": "display_data"
    },
    {
     "data": {
      "text/plain": [
       "array([[\"{'word': '조양호', 'start_idx': 9, 'end_idx': 11, 'type': 'PER'}\",\n",
       "        \"{'word': '대한항공', 'start_idx': 0, 'end_idx': 3, 'type': 'ORG'}\",\n",
       "        'no_relation']], dtype=object)"
      ]
     },
     "metadata": {},
     "output_type": "display_data"
    },
    {
     "data": {
      "text/plain": [
       "array([[\"{'word': '대한항공', 'start_idx': 0, 'end_idx': 3, 'type': 'ORG'}\",\n",
       "        \"{'word': '조양호', 'start_idx': 9, 'end_idx': 11, 'type': 'PER'}\",\n",
       "        'org:top_members/employees']], dtype=object)"
      ]
     },
     "metadata": {},
     "output_type": "display_data"
    }
   ],
   "source": [
    "target_columns = ['subject_entity', 'object_entity', 'label']\n",
    "\n",
    "display(get_columns(train_data, 6749, target_columns).values)\n",
    "display(get_columns(train_data, 7276, target_columns).values)\n",
    "display(get_columns(train_data, 12829, target_columns).values)"
   ]
  },
  {
   "cell_type": "markdown",
   "metadata": {},
   "source": [
    "'org:top_members/employees' 는 no_relation 을 제외했을 때 가장 데이터가 많은 label 이다."
   ]
  },
  {
   "cell_type": "markdown",
   "metadata": {},
   "source": [
    "### Case 2: 두 데이터가 entity 는 모두 동일하고 label 이 다른 경우"
   ]
  },
  {
   "cell_type": "markdown",
   "metadata": {},
   "source": [
    "\"배우 김병철 씨가 연기하는 정복동은 천리마마트를 망하게 하기 위해 여러 계획을 세우지만 반대로 하는 일마다 대박을 치는 캐릭터이다.\"\n",
    "\n",
    "id: 8364, 32299"
   ]
  },
  {
   "cell_type": "code",
   "execution_count": 162,
   "metadata": {},
   "outputs": [
    {
     "data": {
      "text/plain": [
       "array([[\"{'word': '정복동', 'start_idx': 15, 'end_idx': 17, 'type': 'PER'}\",\n",
       "        \"{'word': '김병철', 'start_idx': 3, 'end_idx': 5, 'type': 'PER'}\",\n",
       "        'no_relation']], dtype=object)"
      ]
     },
     "metadata": {},
     "output_type": "display_data"
    },
    {
     "data": {
      "text/plain": [
       "array([[\"{'word': '정복동', 'start_idx': 15, 'end_idx': 17, 'type': 'PER'}\",\n",
       "        \"{'word': '김병철', 'start_idx': 3, 'end_idx': 5, 'type': 'PER'}\",\n",
       "        'per:alternate_names']], dtype=object)"
      ]
     },
     "metadata": {},
     "output_type": "display_data"
    }
   ],
   "source": [
    "display(get_columns(train_data, 8364, target_columns).values)\n",
    "display(get_columns(train_data, 32299, target_columns).values)"
   ]
  },
  {
   "cell_type": "markdown",
   "metadata": {},
   "source": [
    "\"영화 '버즈 오브 프레이'는 배트맨이 없는 고담시에서 할리퀸, 헌트리스, 블랙 카나리가 힘을 합쳐 한 소녀를 구한다는 이야기다.\"\n",
    "\n",
    "id: 11511, 22258"
   ]
  },
  {
   "cell_type": "code",
   "execution_count": 163,
   "metadata": {},
   "outputs": [
    {
     "data": {
      "text/plain": [
       "array([[\"{'word': '배트맨', 'start_idx': 16, 'end_idx': 18, 'type': 'PER'}\",\n",
       "        \"{'word': '고담시', 'start_idx': 24, 'end_idx': 26, 'type': 'LOC'}\",\n",
       "        'per:place_of_residence']], dtype=object)"
      ]
     },
     "metadata": {},
     "output_type": "display_data"
    },
    {
     "data": {
      "text/plain": [
       "array([[\"{'word': '배트맨', 'start_idx': 16, 'end_idx': 18, 'type': 'PER'}\",\n",
       "        \"{'word': '고담시', 'start_idx': 24, 'end_idx': 26, 'type': 'LOC'}\",\n",
       "        'no_relation']], dtype=object)"
      ]
     },
     "metadata": {},
     "output_type": "display_data"
    }
   ],
   "source": [
    "display(get_columns(train_data, 11511, target_columns).values)\n",
    "display(get_columns(train_data, 22258, target_columns).values)"
   ]
  },
  {
   "cell_type": "markdown",
   "metadata": {},
   "source": [
    "\"한편 전라남도는 최근 확진자가 발생한 순천시와 여수시에 마스크를 각각 2만장씩 총 4만장 지원했으며, 이날 확진자가 나온 광양시에도 현장상황을 감안해 적정 물량을 지원키로 했다.\"\n",
    "\n",
    "id: 4212, 25096"
   ]
  },
  {
   "cell_type": "code",
   "execution_count": 165,
   "metadata": {},
   "outputs": [
    {
     "data": {
      "text/plain": [
       "array([[\"{'word': '전라남도', 'start_idx': 3, 'end_idx': 6, 'type': 'ORG'}\",\n",
       "        \"{'word': '여수시', 'start_idx': 26, 'end_idx': 28, 'type': 'LOC'}\",\n",
       "        'org:members']], dtype=object)"
      ]
     },
     "metadata": {},
     "output_type": "display_data"
    },
    {
     "data": {
      "text/plain": [
       "array([[\"{'word': 'MBC충북', 'start_idx': 18, 'end_idx': 22, 'type': 'ORG'}\",\n",
       "        \"{'word': '충청북도', 'start_idx': 36, 'end_idx': 39, 'type': 'POH'}\",\n",
       "        'org:place_of_headquarters']], dtype=object)"
      ]
     },
     "metadata": {},
     "output_type": "display_data"
    }
   ],
   "source": [
    "display(get_columns(train_data, 4212, target_columns).values)\n",
    "display(get_columns(train_data, 25096, target_columns).values)"
   ]
  },
  {
   "cell_type": "markdown",
   "metadata": {},
   "source": [
    "### Case 3: 세 데이터가 entity 는 모두 동일하고 하나만 label 이 다른 경우 "
   ]
  },
  {
   "cell_type": "markdown",
   "metadata": {},
   "source": [
    "\"이날 프로그램 공개에서는 전북영산작법보존회와 김명신‧정상희의 사제동행 판소리, 관악 명인 대금 원장현, 색소폰 강태환의 무대를 선보이며 올해 축제에 대한 기대감을 한껏 끌어 올렸다.\"\n",
    "\n",
    "id: 277, 3296, 10202"
   ]
  },
  {
   "cell_type": "code",
   "execution_count": 167,
   "metadata": {},
   "outputs": [
    {
     "data": {
      "text/plain": [
       "array([[\"{'word': '강태환', 'start_idx': 62, 'end_idx': 64, 'type': 'PER'}\",\n",
       "        \"{'word': '색소폰', 'start_idx': 58, 'end_idx': 60, 'type': 'POH'}\",\n",
       "        'no_relation']], dtype=object)"
      ]
     },
     "metadata": {},
     "output_type": "display_data"
    },
    {
     "data": {
      "text/plain": [
       "array([[\"{'word': '강태환', 'start_idx': 62, 'end_idx': 64, 'type': 'PER'}\",\n",
       "        \"{'word': '색소폰', 'start_idx': 58, 'end_idx': 60, 'type': 'POH'}\",\n",
       "        'no_relation']], dtype=object)"
      ]
     },
     "metadata": {},
     "output_type": "display_data"
    },
    {
     "data": {
      "text/plain": [
       "array([[\"{'word': '강태환', 'start_idx': 62, 'end_idx': 64, 'type': 'PER'}\",\n",
       "        \"{'word': '색소폰', 'start_idx': 58, 'end_idx': 60, 'type': 'POH'}\",\n",
       "        'per:title']], dtype=object)"
      ]
     },
     "metadata": {},
     "output_type": "display_data"
    }
   ],
   "source": [
    "display(get_columns(train_data, 277, target_columns).values)\n",
    "display(get_columns(train_data, 10202, target_columns).values)\n",
    "display(get_columns(train_data, 3296, target_columns).values)"
   ]
  },
  {
   "cell_type": "markdown",
   "metadata": {},
   "source": [
    "# 3. 특수문자 "
   ]
  },
  {
   "cell_type": "markdown",
   "metadata": {},
   "source": [
    "한글 외에도 특수 알파벳, 한자, 일본어, 아랍어, 로마자, 키릴 문자, 수학 단위 등 발견\n",
    "\n",
    "일부 문자의 경우 entity 에도 포함이 되어 있었다\n",
    "\n",
    "한글 자음만 있는 경우도 있으나, Lv.1 때와 다르게 이름을 초성으로 표현한 경우\n",
    "\n",
    "entity 에 단어의 index 도 같이 표현되어 있기 때문에 data cealning 은 신중하게 하는 게 좋아 보인다."
   ]
  },
  {
   "cell_type": "code",
   "execution_count": 185,
   "metadata": {},
   "outputs": [
    {
     "data": {
      "text/plain": [
       "{'-',\n",
       " '=',\n",
       " '[',\n",
       " ']',\n",
       " '`',\n",
       " '{',\n",
       " '|',\n",
       " '}',\n",
       " '£',\n",
       " '«',\n",
       " '®',\n",
       " '°',\n",
       " '³',\n",
       " 'µ',\n",
       " '·',\n",
       " '»',\n",
       " 'Á',\n",
       " 'Â',\n",
       " 'Ç',\n",
       " 'É',\n",
       " 'Ó',\n",
       " 'Ö',\n",
       " '×',\n",
       " 'Ú',\n",
       " 'ß',\n",
       " 'à',\n",
       " 'â',\n",
       " 'ã',\n",
       " 'ä',\n",
       " 'å',\n",
       " 'æ',\n",
       " 'ç',\n",
       " 'è',\n",
       " 'é',\n",
       " 'ê',\n",
       " 'ë',\n",
       " 'ì',\n",
       " 'í',\n",
       " 'ï',\n",
       " 'ñ',\n",
       " 'ò',\n",
       " 'ó',\n",
       " 'ô',\n",
       " 'ö',\n",
       " 'ø',\n",
       " 'ù',\n",
       " 'ú',\n",
       " 'û',\n",
       " 'ü',\n",
       " 'ý',\n",
       " 'ā',\n",
       " 'ć',\n",
       " 'Č',\n",
       " 'Đ',\n",
       " 'ē',\n",
       " 'ğ',\n",
       " 'ī',\n",
       " 'İ',\n",
       " 'ı',\n",
       " 'ł',\n",
       " 'ņ',\n",
       " 'ő',\n",
       " 'Ś',\n",
       " 'ş',\n",
       " 'Š',\n",
       " 'š',\n",
       " 'ū',\n",
       " 'Ž',\n",
       " 'ơ',\n",
       " 'ư',\n",
       " 'Ǧ',\n",
       " 'ȳ',\n",
       " 'ɒ',\n",
       " 'ɪ',\n",
       " 'ɾ',\n",
       " 'ʁ',\n",
       " 'ʒ',\n",
       " 'ʿ',\n",
       " 'ˈ',\n",
       " '˘',\n",
       " '˹',\n",
       " '˼',\n",
       " '́',\n",
       " '·',\n",
       " 'ΐ',\n",
       " 'Α',\n",
       " 'Β',\n",
       " 'Γ',\n",
       " 'Δ',\n",
       " 'Ε',\n",
       " 'Ζ',\n",
       " 'Θ',\n",
       " 'Κ',\n",
       " 'Μ',\n",
       " 'Π',\n",
       " 'ά',\n",
       " 'έ',\n",
       " 'ί',\n",
       " 'α',\n",
       " 'β',\n",
       " 'γ',\n",
       " 'δ',\n",
       " 'ε',\n",
       " 'η',\n",
       " 'θ',\n",
       " 'ι',\n",
       " 'κ',\n",
       " 'λ',\n",
       " 'μ',\n",
       " 'ν',\n",
       " 'ο',\n",
       " 'π',\n",
       " 'ρ',\n",
       " 'ς',\n",
       " 'σ',\n",
       " 'τ',\n",
       " 'υ',\n",
       " 'χ',\n",
       " 'ω',\n",
       " 'ό',\n",
       " 'ύ',\n",
       " 'І',\n",
       " 'А',\n",
       " 'В',\n",
       " 'Г',\n",
       " 'Д',\n",
       " 'Ж',\n",
       " 'И',\n",
       " 'К',\n",
       " 'Л',\n",
       " 'М',\n",
       " 'О',\n",
       " 'П',\n",
       " 'Р',\n",
       " 'С',\n",
       " 'Т',\n",
       " 'Х',\n",
       " 'Ц',\n",
       " 'Ч',\n",
       " 'Ю',\n",
       " 'а',\n",
       " 'б',\n",
       " 'в',\n",
       " 'г',\n",
       " 'д',\n",
       " 'е',\n",
       " 'ж',\n",
       " 'з',\n",
       " 'и',\n",
       " 'й',\n",
       " 'к',\n",
       " 'л',\n",
       " 'м',\n",
       " 'н',\n",
       " 'о',\n",
       " 'п',\n",
       " 'р',\n",
       " 'с',\n",
       " 'т',\n",
       " 'у',\n",
       " 'х',\n",
       " 'ц',\n",
       " 'ч',\n",
       " 'ш',\n",
       " 'ы',\n",
       " 'ь',\n",
       " 'э',\n",
       " 'я',\n",
       " 'ё',\n",
       " 'њ',\n",
       " 'ћ',\n",
       " 'ا',\n",
       " 'ب',\n",
       " 'ة',\n",
       " 'ت',\n",
       " 'ث',\n",
       " 'ج',\n",
       " 'ح',\n",
       " 'د',\n",
       " 'ر',\n",
       " 'ز',\n",
       " 'س',\n",
       " 'ش',\n",
       " 'ط',\n",
       " 'ظ',\n",
       " 'ع',\n",
       " 'ف',\n",
       " 'ك',\n",
       " 'ل',\n",
       " 'م',\n",
       " 'ن',\n",
       " 'ه',\n",
       " 'و',\n",
       " 'ي',\n",
       " 'ڤ',\n",
       " 'ہ',\n",
       " 'ی',\n",
       " 'ज',\n",
       " 'द',\n",
       " 'न',\n",
       " 'ब',\n",
       " 'म',\n",
       " 'र',\n",
       " 'ह',\n",
       " '़',\n",
       " 'ा',\n",
       " 'ी',\n",
       " 'ु',\n",
       " '्',\n",
       " 'ላ',\n",
       " 'መ',\n",
       " 'ር',\n",
       " 'ና',\n",
       " 'ኔ',\n",
       " 'ን',\n",
       " 'ኪ',\n",
       " 'ዘ',\n",
       " 'ድ',\n",
       " 'ḥ',\n",
       " 'ạ',\n",
       " 'ả',\n",
       " 'ầ',\n",
       " 'ậ',\n",
       " 'ề',\n",
       " 'ễ',\n",
       " 'ệ',\n",
       " 'ọ',\n",
       " 'ố',\n",
       " 'ồ',\n",
       " 'ộ',\n",
       " 'ợ',\n",
       " 'Ῥ',\n",
       " 'ῶ',\n",
       " '\\u200e',\n",
       " '–',\n",
       " '—',\n",
       " '―',\n",
       " '‘',\n",
       " '’',\n",
       " '“',\n",
       " '”',\n",
       " '•',\n",
       " '․',\n",
       " '‧',\n",
       " '′',\n",
       " '※',\n",
       " '⁺',\n",
       " '₫',\n",
       " '€',\n",
       " '℃',\n",
       " 'ℓ',\n",
       " '⅓',\n",
       " '⅔',\n",
       " 'Ⅰ',\n",
       " 'Ⅱ',\n",
       " 'Ⅲ',\n",
       " 'Ⅳ',\n",
       " '→',\n",
       " '↔',\n",
       " '∙',\n",
       " '∞',\n",
       " '∼',\n",
       " '≪',\n",
       " '≫',\n",
       " '⋅',\n",
       " '⌜',\n",
       " '⌟',\n",
       " 'Ⓐ',\n",
       " '□',\n",
       " '▲',\n",
       " '△',\n",
       " '▴',\n",
       " '▵',\n",
       " '○',\n",
       " '★',\n",
       " '☆',\n",
       " '☎',\n",
       " '☏',\n",
       " '♡',\n",
       " '♥',\n",
       " '⟪',\n",
       " '⟫',\n",
       " '⸱',\n",
       " '、',\n",
       " '。',\n",
       " '々',\n",
       " '〈',\n",
       " '〉',\n",
       " '《',\n",
       " '》',\n",
       " '「',\n",
       " '」',\n",
       " '『',\n",
       " '』',\n",
       " 'ヶ',\n",
       " '・',\n",
       " 'ー',\n",
       " 'ㅠ',\n",
       " 'ㆍ',\n",
       " '㈔',\n",
       " '㈜',\n",
       " '㎏',\n",
       " '㎖',\n",
       " '㎜',\n",
       " '㎞',\n",
       " '㎡',\n",
       " '㎿',\n",
       " '㫕',\n",
       " '䄄',\n",
       " '䄙',\n",
       " '\\uf09e',\n",
       " '李',\n",
       " '％',\n",
       " '＇',\n",
       " '（',\n",
       " '）',\n",
       " '，',\n",
       " '／',\n",
       " '１',\n",
       " '：',\n",
       " '？',\n",
       " 'ｍ',\n",
       " '～',\n",
       " '｢',\n",
       " '｣',\n",
       " '･',\n",
       " '𑀕',\n",
       " '𑀥',\n",
       " '𑀫',\n",
       " '𥘺'}"
      ]
     },
     "execution_count": 185,
     "metadata": {},
     "output_type": "execute_result"
    }
   ],
   "source": [
    "sentences = train_data['sentence']\n",
    "is_special_character = re.compile('[^,~()\\'\\\"/_;:*$?&%<>!.A-Za-z0-9ㄱ-ㅎ가-힣一-龥ぁ-んァ-ン\\s]')\n",
    "special_characters = set()\n",
    "\n",
    "for sentence in sentences:\n",
    "  for char in is_special_character.findall(sentence):\n",
    "    special_characters.add(char)\n",
    "\n",
    "special_characters"
   ]
  }
 ],
 "metadata": {
  "kernelspec": {
   "display_name": "Python 3",
   "language": "python",
   "name": "python3"
  },
  "language_info": {
   "codemirror_mode": {
    "name": "ipython",
    "version": 3
   },
   "file_extension": ".py",
   "mimetype": "text/x-python",
   "name": "python",
   "nbconvert_exporter": "python",
   "pygments_lexer": "ipython3",
   "version": "3.8.5"
  }
 },
 "nbformat": 4,
 "nbformat_minor": 2
}
