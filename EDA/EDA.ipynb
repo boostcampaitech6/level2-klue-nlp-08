{
 "cells": [
  {
   "cell_type": "code",
   "execution_count": 1,
   "metadata": {},
   "outputs": [],
   "source": [
    "import re\n",
    "import pandas as pd\n",
    "import matplotlib.pyplot as plt\n",
    "\n",
    "from transformers import AutoTokenizer\n",
    "from sklearn.model_selection import train_test_split"
   ]
  },
  {
   "cell_type": "code",
   "execution_count": 2,
   "metadata": {},
   "outputs": [],
   "source": [
    "train_data = pd.read_csv(\"../../dataset/train/train.csv\")\n",
    "test_data = pd.read_csv(\"../../dataset/test/test_data.csv\")"
   ]
  },
  {
   "cell_type": "markdown",
   "metadata": {},
   "source": [
    "# Split train, valid dataset"
   ]
  },
  {
   "cell_type": "code",
   "execution_count": 3,
   "metadata": {},
   "outputs": [
    {
     "name": "stdout",
     "output_type": "stream",
     "text": [
      "num of train_split 29223\n",
      "num of test_split 3247\n"
     ]
    }
   ],
   "source": [
    "train_split, valid_split = train_test_split(train_data, test_size=0.1, random_state=0, stratify=train_data[['label']])\n",
    "train_split.to_csv(\"../../dataset/train/train_split_v1.csv\")\n",
    "valid_split.to_csv(\"../../dataset/train/valid_split_v1.csv\")\n",
    "print('num of train_split', len(train_split))\n",
    "print('num of test_split', len(valid_split))"
   ]
  },
  {
   "cell_type": "code",
   "execution_count": 4,
   "metadata": {},
   "outputs": [
    {
     "data": {
      "text/plain": [
       "no_relation                            8581\n",
       "org:top_members/employees              3856\n",
       "per:employee_of                        3216\n",
       "per:title                              1893\n",
       "org:member_of                          1679\n",
       "org:alternate_names                    1188\n",
       "per:origin                             1111\n",
       "org:place_of_headquarters              1075\n",
       "per:date_of_birth                      1017\n",
       "per:alternate_names                     901\n",
       "per:spouse                              716\n",
       "per:colleagues                          481\n",
       "per:parents                             468\n",
       "org:founded                             405\n",
       "org:members                             378\n",
       "per:date_of_death                       376\n",
       "org:product                             342\n",
       "per:children                            274\n",
       "per:place_of_residence                  174\n",
       "per:other_family                        171\n",
       "per:place_of_birth                      149\n",
       "org:founded_by                          139\n",
       "per:product                             125\n",
       "per:siblings                            122\n",
       "org:political/religious_affiliation      88\n",
       "per:religion                             86\n",
       "per:schools_attended                     74\n",
       "org:dissolved                            59\n",
       "org:number_of_employees/members          43\n",
       "per:place_of_death                       36\n",
       "Name: label, dtype: int64"
      ]
     },
     "execution_count": 4,
     "metadata": {},
     "output_type": "execute_result"
    }
   ],
   "source": [
    "train_split['label'].value_counts()\n"
   ]
  },
  {
   "cell_type": "code",
   "execution_count": 5,
   "metadata": {},
   "outputs": [
    {
     "data": {
      "text/plain": [
       "no_relation                            953\n",
       "org:top_members/employees              428\n",
       "per:employee_of                        357\n",
       "per:title                              210\n",
       "org:member_of                          187\n",
       "org:alternate_names                    132\n",
       "per:origin                             123\n",
       "org:place_of_headquarters              120\n",
       "per:date_of_birth                      113\n",
       "per:alternate_names                    100\n",
       "per:spouse                              79\n",
       "per:colleagues                          53\n",
       "per:parents                             52\n",
       "org:founded                             45\n",
       "per:date_of_death                       42\n",
       "org:members                             42\n",
       "org:product                             38\n",
       "per:children                            30\n",
       "per:other_family                        19\n",
       "per:place_of_residence                  19\n",
       "per:place_of_birth                      17\n",
       "org:founded_by                          16\n",
       "per:siblings                            14\n",
       "per:product                             14\n",
       "org:political/religious_affiliation     10\n",
       "per:religion                            10\n",
       "per:schools_attended                     8\n",
       "org:dissolved                            7\n",
       "org:number_of_employees/members          5\n",
       "per:place_of_death                       4\n",
       "Name: label, dtype: int64"
      ]
     },
     "execution_count": 5,
     "metadata": {},
     "output_type": "execute_result"
    }
   ],
   "source": [
    "valid_split['label'].value_counts()"
   ]
  },
  {
   "cell_type": "markdown",
   "metadata": {},
   "source": [
    "# Utility Functions"
   ]
  },
  {
   "cell_type": "code",
   "execution_count": 6,
   "metadata": {},
   "outputs": [],
   "source": [
    "def set_difference(df_a, df_b):\n",
    "    outer_join = pd.merge(df_a, df_b, how='outer', indicator=True)\n",
    "    diff_set = outer_join.query('_merge==\"left_only\"').drop(columns='_merge')\n",
    "    \n",
    "    return diff_set\n",
    "\n",
    "def percentile(n):\n",
    "    def percentile_(x):\n",
    "        return x.quantile(n)\n",
    "    percentile_.__name__ = 'percentile_{:02.0f}'.format(n*100)\n",
    "    \n",
    "    return percentile_\n",
    "\n",
    "def get_columns(data, index, columns):\n",
    "    target = data[data['id']==index]\n",
    "\n",
    "    return target[columns]\n",
    "\n",
    "model = 'klue/bert-base'\n",
    "tokenizer = AutoTokenizer.from_pretrained('klue/bert-base')\n"
   ]
  },
  {
   "cell_type": "markdown",
   "metadata": {},
   "source": [
    "# 0. EDA Summary"
   ]
  },
  {
   "cell_type": "markdown",
   "metadata": {},
   "source": [
    "### Train Data"
   ]
  },
  {
   "cell_type": "code",
   "execution_count": 7,
   "metadata": {},
   "outputs": [
    {
     "name": "stdout",
     "output_type": "stream",
     "text": [
      "[TRAIN DATA]\n",
      "total num of data = 32470\n",
      "unique sentences 개수 = 28803\n",
      "label 개수 = 30\n",
      "sentence가 중복되는 데이터 수 = 7090\n",
      "ssol이 완전히 일치하는 데이터 수 (ex) 1 1 3 3 4 이면 1, 3 두개로 카운트) = 42\n",
      "sso가 중복되는 데이터 수, (ex_ 1 1 3 이면 1 1 두개로 카운트) = 93\n",
      "sso가 일치하는데 label이 다른 데이터 수 = 10\n",
      "word level 문장 길이(95 percentile) = 41.0\n",
      "token level 문장 길이(95 percentile) = 101.0\n"
     ]
    }
   ],
   "source": [
    "# colums => (sentence / subject / object / label)\n",
    "print(\"[TRAIN DATA]\")\n",
    "print(\"total num of data =\", len(train_data))\n",
    "print(\"unique sentences 개수 =\", train_data['sentence'].nunique())\n",
    "print(\"label 개수 =\", train_data['label'].nunique())\n",
    "\n",
    "print(\"sentence가 중복되는 데이터 수 =\", \\\n",
    "      sum(train_data.duplicated(keep=False, subset=['sentence'])))\n",
    "\n",
    "print(\"ssol이 완전히 일치하는 데이터 수 (ex) 1 1 3 3 4 이면 1, 3 두개로 카운트) =\", \\\n",
    "      sum(train_data.duplicated(subset=['sentence', 'subject_entity', 'object_entity', 'label']))) # 제거해도 무방\n",
    "\n",
    "print(\"sso가 중복되는 데이터 수, (ex_ 1 1 3 이면 1 1 두개로 카운트) =\", \\\n",
    "      sum(train_data.duplicated(keep=False, subset=['sentence', 'subject_entity', 'object_entity'])))\n",
    "\n",
    "\n",
    "sub_sso_ssol = set_difference(train_data[train_data.duplicated(keep=False, subset=['sentence', 'subject_entity', 'object_entity'])],\\\n",
    "                              train_data[train_data.duplicated(subset=['sentence', 'subject_entity', 'object_entity', 'label'])])\n",
    "dup_sso_sub_sso_ssol = sub_sso_ssol[sub_sso_ssol.duplicated(keep=False, subset=['sentence', 'subject_entity', 'object_entity'])]\n",
    "print(\"sso가 일치하는데 label이 다른 데이터 수 =\", sum(sub_sso_ssol.duplicated(keep=False, subset=['sentence', 'subject_entity', 'object_entity'])))# 어느 label이 정답인지 판단하기 어렵다, 그냥 둔다\n",
    "\n",
    "print(\"word level 문장 길이(95 percentile) =\",\\\n",
    "      train_data['sentence'].apply(lambda x: len(x.split(' '))).agg([percentile(0.95)]).values[0])\n",
    "\n",
    "print(\"token level 문장 길이(95 percentile) =\",\\\n",
    "      train_data['sentence'].apply(lambda x: len(tokenizer(x)['input_ids'])).agg([percentile(0.95)]).values[0])\n"
   ]
  },
  {
   "cell_type": "markdown",
   "metadata": {},
   "source": [
    "### Test Data"
   ]
  },
  {
   "cell_type": "code",
   "execution_count": 8,
   "metadata": {},
   "outputs": [
    {
     "name": "stdout",
     "output_type": "stream",
     "text": [
      "[TEST DATA]\n",
      "total num of data = 7765\n",
      "unique sentences 개수 = 7764\n",
      "label 개수 = 1\n",
      "sentence가 중복되는 데이터 수 = 2\n",
      "sso가 중복되는 데이터 수, (ex_ 1 1 3 이면 1 1 두개로 카운트) = 0\n",
      "word level 문장 길이(95 percentile) = 39.0\n",
      "token level 문장 길이(95 percentile) = 93.0\n"
     ]
    }
   ],
   "source": [
    "# colums => (sentence / subject / object / label)\n",
    "print(\"[TEST DATA]\")\n",
    "print(\"total num of data =\", len(test_data))\n",
    "print(\"unique sentences 개수 =\", test_data['sentence'].nunique())\n",
    "print(\"label 개수 =\", test_data['label'].nunique())\n",
    "\n",
    "print(\"sentence가 중복되는 데이터 수 =\", \\\n",
    "      sum(test_data.duplicated(keep=False, subset=['sentence'])))\n",
    "\n",
    "print(\"sso가 중복되는 데이터 수, (ex_ 1 1 3 이면 1 1 두개로 카운트) =\", \\\n",
    "      sum(test_data.duplicated(keep=False, subset=['sentence', 'subject_entity', 'object_entity'])))\n",
    "\n",
    "print(\"word level 문장 길이(95 percentile) =\",\\\n",
    "      test_data['sentence'].apply(lambda x: len(x.split(' '))).agg([percentile(0.95)]).values[0])\n",
    "\n",
    "print(\"token level 문장 길이(95 percentile) =\",\\\n",
    "      test_data['sentence'].apply(lambda x: len(tokenizer(x)['input_ids'])).agg([percentile(0.95)]).values[0])\n"
   ]
  },
  {
   "cell_type": "markdown",
   "metadata": {},
   "source": [
    "# 1. Train/Test dataset overview"
   ]
  },
  {
   "cell_type": "code",
   "execution_count": 9,
   "metadata": {},
   "outputs": [
    {
     "data": {
      "text/html": [
       "<div>\n",
       "<style scoped>\n",
       "    .dataframe tbody tr th:only-of-type {\n",
       "        vertical-align: middle;\n",
       "    }\n",
       "\n",
       "    .dataframe tbody tr th {\n",
       "        vertical-align: top;\n",
       "    }\n",
       "\n",
       "    .dataframe thead th {\n",
       "        text-align: right;\n",
       "    }\n",
       "</style>\n",
       "<table border=\"1\" class=\"dataframe\">\n",
       "  <thead>\n",
       "    <tr style=\"text-align: right;\">\n",
       "      <th></th>\n",
       "      <th>id</th>\n",
       "      <th>sentence</th>\n",
       "      <th>subject_entity</th>\n",
       "      <th>object_entity</th>\n",
       "      <th>label</th>\n",
       "      <th>source</th>\n",
       "    </tr>\n",
       "  </thead>\n",
       "  <tbody>\n",
       "    <tr>\n",
       "      <th>0</th>\n",
       "      <td>0</td>\n",
       "      <td>〈Something〉는 조지 해리슨이 쓰고 비틀즈가 1969년 앨범 《Abbey R...</td>\n",
       "      <td>{'word': '비틀즈', 'start_idx': 24, 'end_idx': 26...</td>\n",
       "      <td>{'word': '조지 해리슨', 'start_idx': 13, 'end_idx':...</td>\n",
       "      <td>no_relation</td>\n",
       "      <td>wikipedia</td>\n",
       "    </tr>\n",
       "    <tr>\n",
       "      <th>1</th>\n",
       "      <td>1</td>\n",
       "      <td>호남이 기반인 바른미래당·대안신당·민주평화당이 우여곡절 끝에 합당해 민생당(가칭)으...</td>\n",
       "      <td>{'word': '민주평화당', 'start_idx': 19, 'end_idx': ...</td>\n",
       "      <td>{'word': '대안신당', 'start_idx': 14, 'end_idx': 1...</td>\n",
       "      <td>no_relation</td>\n",
       "      <td>wikitree</td>\n",
       "    </tr>\n",
       "    <tr>\n",
       "      <th>2</th>\n",
       "      <td>2</td>\n",
       "      <td>K리그2에서 성적 1위를 달리고 있는 광주FC는 지난 26일 한국프로축구연맹으로부터...</td>\n",
       "      <td>{'word': '광주FC', 'start_idx': 21, 'end_idx': 2...</td>\n",
       "      <td>{'word': '한국프로축구연맹', 'start_idx': 34, 'end_idx...</td>\n",
       "      <td>org:member_of</td>\n",
       "      <td>wikitree</td>\n",
       "    </tr>\n",
       "    <tr>\n",
       "      <th>3</th>\n",
       "      <td>3</td>\n",
       "      <td>균일가 생활용품점 (주)아성다이소(대표 박정부)는 코로나19 바이러스로 어려움을 겪...</td>\n",
       "      <td>{'word': '아성다이소', 'start_idx': 13, 'end_idx': ...</td>\n",
       "      <td>{'word': '박정부', 'start_idx': 22, 'end_idx': 24...</td>\n",
       "      <td>org:top_members/employees</td>\n",
       "      <td>wikitree</td>\n",
       "    </tr>\n",
       "    <tr>\n",
       "      <th>4</th>\n",
       "      <td>4</td>\n",
       "      <td>1967년 프로 야구 드래프트 1순위로 요미우리 자이언츠에게 입단하면서 등번호는 8...</td>\n",
       "      <td>{'word': '요미우리 자이언츠', 'start_idx': 22, 'end_id...</td>\n",
       "      <td>{'word': '1967', 'start_idx': 0, 'end_idx': 3,...</td>\n",
       "      <td>no_relation</td>\n",
       "      <td>wikipedia</td>\n",
       "    </tr>\n",
       "  </tbody>\n",
       "</table>\n",
       "</div>"
      ],
      "text/plain": [
       "   id                                           sentence  \\\n",
       "0   0  〈Something〉는 조지 해리슨이 쓰고 비틀즈가 1969년 앨범 《Abbey R...   \n",
       "1   1  호남이 기반인 바른미래당·대안신당·민주평화당이 우여곡절 끝에 합당해 민생당(가칭)으...   \n",
       "2   2  K리그2에서 성적 1위를 달리고 있는 광주FC는 지난 26일 한국프로축구연맹으로부터...   \n",
       "3   3  균일가 생활용품점 (주)아성다이소(대표 박정부)는 코로나19 바이러스로 어려움을 겪...   \n",
       "4   4  1967년 프로 야구 드래프트 1순위로 요미우리 자이언츠에게 입단하면서 등번호는 8...   \n",
       "\n",
       "                                      subject_entity  \\\n",
       "0  {'word': '비틀즈', 'start_idx': 24, 'end_idx': 26...   \n",
       "1  {'word': '민주평화당', 'start_idx': 19, 'end_idx': ...   \n",
       "2  {'word': '광주FC', 'start_idx': 21, 'end_idx': 2...   \n",
       "3  {'word': '아성다이소', 'start_idx': 13, 'end_idx': ...   \n",
       "4  {'word': '요미우리 자이언츠', 'start_idx': 22, 'end_id...   \n",
       "\n",
       "                                       object_entity  \\\n",
       "0  {'word': '조지 해리슨', 'start_idx': 13, 'end_idx':...   \n",
       "1  {'word': '대안신당', 'start_idx': 14, 'end_idx': 1...   \n",
       "2  {'word': '한국프로축구연맹', 'start_idx': 34, 'end_idx...   \n",
       "3  {'word': '박정부', 'start_idx': 22, 'end_idx': 24...   \n",
       "4  {'word': '1967', 'start_idx': 0, 'end_idx': 3,...   \n",
       "\n",
       "                       label     source  \n",
       "0                no_relation  wikipedia  \n",
       "1                no_relation   wikitree  \n",
       "2              org:member_of   wikitree  \n",
       "3  org:top_members/employees   wikitree  \n",
       "4                no_relation  wikipedia  "
      ]
     },
     "execution_count": 9,
     "metadata": {},
     "output_type": "execute_result"
    }
   ],
   "source": [
    "train_data.head()"
   ]
  },
  {
   "cell_type": "markdown",
   "metadata": {},
   "source": [
    "---------------------------------------------------------------------"
   ]
  },
  {
   "cell_type": "code",
   "execution_count": 46,
   "metadata": {},
   "outputs": [
    {
     "name": "stdout",
     "output_type": "stream",
     "text": [
      "{'PER', 'ORG', 'LOC'}\n"
     ]
    }
   ],
   "source": [
    "token = []\n",
    "sub = test_data['subject_entity']\n",
    "sub2 = train_data['subject_entity']\n",
    "for i in range(len(sub)):\n",
    "    sub_dict = eval(sub[i])\n",
    "    token.append(sub_dict['type'])\n",
    "    sub_dict2 = eval(sub2[i])\n",
    "    token.append(sub_dict2['type'])\n",
    "print(set(token))\n"
   ]
  },
  {
   "cell_type": "code",
   "execution_count": null,
   "metadata": {},
   "outputs": [],
   "source": [
    "special_tokens_dict = {'additional_special_tokens': ['[/S:LOC]', '[S:LOC]', '[S:PER]', '[S:ORG]', \n",
    "                                                        '[/S:PER]', '[/S:ORG]', '[/O:POH]', '[/O:LOC]', \n",
    "                                                        '[/O:ORG]', '[O:POH]', '[/O:DAT]', '[/O:PER]', \n",
    "                                                        '[O:ORG]', '[O:NOH]', '[/O:NOH]', '[O:PER]', \n",
    "                                                        '[O:LOC]', '[O:DAT]']}"
   ]
  },
  {
   "cell_type": "code",
   "execution_count": 10,
   "metadata": {},
   "outputs": [
    {
     "data": {
      "text/html": [
       "<div>\n",
       "<style scoped>\n",
       "    .dataframe tbody tr th:only-of-type {\n",
       "        vertical-align: middle;\n",
       "    }\n",
       "\n",
       "    .dataframe tbody tr th {\n",
       "        vertical-align: top;\n",
       "    }\n",
       "\n",
       "    .dataframe thead th {\n",
       "        text-align: right;\n",
       "    }\n",
       "</style>\n",
       "<table border=\"1\" class=\"dataframe\">\n",
       "  <thead>\n",
       "    <tr style=\"text-align: right;\">\n",
       "      <th></th>\n",
       "      <th>id</th>\n",
       "      <th>sentence</th>\n",
       "      <th>subject_entity</th>\n",
       "      <th>object_entity</th>\n",
       "      <th>label</th>\n",
       "      <th>source</th>\n",
       "    </tr>\n",
       "  </thead>\n",
       "  <tbody>\n",
       "    <tr>\n",
       "      <th>0</th>\n",
       "      <td>0</td>\n",
       "      <td>지난 15일 MBC '탐사기획 스트레이트'가 이 사실을 보도했다.</td>\n",
       "      <td>{'word': 'MBC', 'start_idx': 7, 'end_idx': 9, ...</td>\n",
       "      <td>{'word': '탐사기획 스트레이트', 'start_idx': 12, 'end_i...</td>\n",
       "      <td>100</td>\n",
       "      <td>wikitree</td>\n",
       "    </tr>\n",
       "    <tr>\n",
       "      <th>1</th>\n",
       "      <td>1</td>\n",
       "      <td>사랑스러운 ‘프린세스 프링’의 이름은 봄의 공주님: Princess(s)Pring이...</td>\n",
       "      <td>{'word': '프린세스 프링', 'start_idx': 7, 'end_idx':...</td>\n",
       "      <td>{'word': '공주', 'start_idx': 84, 'end_idx': 85,...</td>\n",
       "      <td>100</td>\n",
       "      <td>wikipedia</td>\n",
       "    </tr>\n",
       "    <tr>\n",
       "      <th>2</th>\n",
       "      <td>2</td>\n",
       "      <td>한편, 본인(이근안)을 모델로 한 MBC 특집드라마 가 1995년 6.25 특집극으...</td>\n",
       "      <td>{'word': '경찰', 'start_idx': 121, 'end_idx': 12...</td>\n",
       "      <td>{'word': '1995년', 'start_idx': 31, 'end_idx': ...</td>\n",
       "      <td>100</td>\n",
       "      <td>wikipedia</td>\n",
       "    </tr>\n",
       "    <tr>\n",
       "      <th>3</th>\n",
       "      <td>3</td>\n",
       "      <td>정창손은 김질과 같이 대궐로 달려가 고변하며 '신은 실로 모르고 김질만 혼자 참여하...</td>\n",
       "      <td>{'word': '세조', 'start_idx': 78, 'end_idx': 79,...</td>\n",
       "      <td>{'word': '정창손', 'start_idx': 0, 'end_idx': 2, ...</td>\n",
       "      <td>100</td>\n",
       "      <td>wikipedia</td>\n",
       "    </tr>\n",
       "    <tr>\n",
       "      <th>4</th>\n",
       "      <td>4</td>\n",
       "      <td>당시 민주당 이진련 시의원은 권영진 시장에게 \"긴급 생계자금을 왜 현금으로 지원하지...</td>\n",
       "      <td>{'word': '민주당', 'start_idx': 3, 'end_idx': 5, ...</td>\n",
       "      <td>{'word': '권영진', 'start_idx': 16, 'end_idx': 18...</td>\n",
       "      <td>100</td>\n",
       "      <td>wikitree</td>\n",
       "    </tr>\n",
       "  </tbody>\n",
       "</table>\n",
       "</div>"
      ],
      "text/plain": [
       "   id                                           sentence  \\\n",
       "0   0               지난 15일 MBC '탐사기획 스트레이트'가 이 사실을 보도했다.   \n",
       "1   1  사랑스러운 ‘프린세스 프링’의 이름은 봄의 공주님: Princess(s)Pring이...   \n",
       "2   2  한편, 본인(이근안)을 모델로 한 MBC 특집드라마 가 1995년 6.25 특집극으...   \n",
       "3   3  정창손은 김질과 같이 대궐로 달려가 고변하며 '신은 실로 모르고 김질만 혼자 참여하...   \n",
       "4   4  당시 민주당 이진련 시의원은 권영진 시장에게 \"긴급 생계자금을 왜 현금으로 지원하지...   \n",
       "\n",
       "                                      subject_entity  \\\n",
       "0  {'word': 'MBC', 'start_idx': 7, 'end_idx': 9, ...   \n",
       "1  {'word': '프린세스 프링', 'start_idx': 7, 'end_idx':...   \n",
       "2  {'word': '경찰', 'start_idx': 121, 'end_idx': 12...   \n",
       "3  {'word': '세조', 'start_idx': 78, 'end_idx': 79,...   \n",
       "4  {'word': '민주당', 'start_idx': 3, 'end_idx': 5, ...   \n",
       "\n",
       "                                       object_entity  label     source  \n",
       "0  {'word': '탐사기획 스트레이트', 'start_idx': 12, 'end_i...    100   wikitree  \n",
       "1  {'word': '공주', 'start_idx': 84, 'end_idx': 85,...    100  wikipedia  \n",
       "2  {'word': '1995년', 'start_idx': 31, 'end_idx': ...    100  wikipedia  \n",
       "3  {'word': '정창손', 'start_idx': 0, 'end_idx': 2, ...    100  wikipedia  \n",
       "4  {'word': '권영진', 'start_idx': 16, 'end_idx': 18...    100   wikitree  "
      ]
     },
     "execution_count": 10,
     "metadata": {},
     "output_type": "execute_result"
    }
   ],
   "source": [
    "test_data.head()"
   ]
  },
  {
   "cell_type": "code",
   "execution_count": 11,
   "metadata": {},
   "outputs": [
    {
     "name": "stdout",
     "output_type": "stream",
     "text": [
      "학습 데이터 개수: 32470\n",
      "평가 데이터 개수: 7765\n"
     ]
    }
   ],
   "source": [
    "print(f\"학습 데이터 개수: {len(train_data)}\")\n",
    "print(f\"평가 데이터 개수: {len(test_data)}\")"
   ]
  },
  {
   "cell_type": "markdown",
   "metadata": {},
   "source": [
    "### 결측치 여부 확인"
   ]
  },
  {
   "cell_type": "code",
   "execution_count": 12,
   "metadata": {},
   "outputs": [
    {
     "name": "stdout",
     "output_type": "stream",
     "text": [
      "<class 'pandas.core.frame.DataFrame'>\n",
      "RangeIndex: 32470 entries, 0 to 32469\n",
      "Data columns (total 6 columns):\n",
      " #   Column          Non-Null Count  Dtype \n",
      "---  ------          --------------  ----- \n",
      " 0   id              32470 non-null  int64 \n",
      " 1   sentence        32470 non-null  object\n",
      " 2   subject_entity  32470 non-null  object\n",
      " 3   object_entity   32470 non-null  object\n",
      " 4   label           32470 non-null  object\n",
      " 5   source          32470 non-null  object\n",
      "dtypes: int64(1), object(5)\n",
      "memory usage: 1.5+ MB\n"
     ]
    }
   ],
   "source": [
    "train_data.info()"
   ]
  },
  {
   "cell_type": "code",
   "execution_count": 13,
   "metadata": {},
   "outputs": [
    {
     "name": "stdout",
     "output_type": "stream",
     "text": [
      "<class 'pandas.core.frame.DataFrame'>\n",
      "RangeIndex: 7765 entries, 0 to 7764\n",
      "Data columns (total 6 columns):\n",
      " #   Column          Non-Null Count  Dtype \n",
      "---  ------          --------------  ----- \n",
      " 0   id              7765 non-null   int64 \n",
      " 1   sentence        7765 non-null   object\n",
      " 2   subject_entity  7765 non-null   object\n",
      " 3   object_entity   7765 non-null   object\n",
      " 4   label           7765 non-null   int64 \n",
      " 5   source          7765 non-null   object\n",
      "dtypes: int64(2), object(4)\n",
      "memory usage: 364.1+ KB\n"
     ]
    }
   ],
   "source": [
    "test_data.info()"
   ]
  },
  {
   "cell_type": "markdown",
   "metadata": {},
   "source": [
    "# 2. label 별 분포 "
   ]
  },
  {
   "cell_type": "markdown",
   "metadata": {},
   "source": [
    "micro F1 score -> no_relation 을 제외한 샘플이 가장 많은 클래스에 가장 많은 가중치를 부여한다."
   ]
  },
  {
   "cell_type": "code",
   "execution_count": 14,
   "metadata": {},
   "outputs": [
    {
     "name": "stdout",
     "output_type": "stream",
     "text": [
      "학습 데이터의 label 개수: 30\n",
      "평가 데이터의 label (100으로 임의 표현되어 가려져있다.) : 1\n"
     ]
    }
   ],
   "source": [
    "# label 의 개수\n",
    "print(f\"학습 데이터의 label 개수: {len(train_data['label'].unique())}\")\n",
    "print(f\"평가 데이터의 label (100으로 임의 표현되어 가려져있다.) : {len(test_data['label'].unique())}\")"
   ]
  },
  {
   "cell_type": "code",
   "execution_count": 15,
   "metadata": {},
   "outputs": [
    {
     "data": {
      "text/plain": [
       "no_relation                            9534\n",
       "org:top_members/employees              4284\n",
       "per:employee_of                        3573\n",
       "per:title                              2103\n",
       "org:member_of                          1866\n",
       "org:alternate_names                    1320\n",
       "per:origin                             1234\n",
       "org:place_of_headquarters              1195\n",
       "per:date_of_birth                      1130\n",
       "per:alternate_names                    1001\n",
       "per:spouse                              795\n",
       "per:colleagues                          534\n",
       "per:parents                             520\n",
       "org:founded                             450\n",
       "org:members                             420\n",
       "per:date_of_death                       418\n",
       "org:product                             380\n",
       "per:children                            304\n",
       "per:place_of_residence                  193\n",
       "per:other_family                        190\n",
       "per:place_of_birth                      166\n",
       "org:founded_by                          155\n",
       "per:product                             139\n",
       "per:siblings                            136\n",
       "org:political/religious_affiliation      98\n",
       "per:religion                             96\n",
       "per:schools_attended                     82\n",
       "org:dissolved                            66\n",
       "org:number_of_employees/members          48\n",
       "per:place_of_death                       40\n",
       "Name: label, dtype: int64"
      ]
     },
     "execution_count": 15,
     "metadata": {},
     "output_type": "execute_result"
    }
   ],
   "source": [
    "train_data['label'].value_counts()"
   ]
  },
  {
   "cell_type": "code",
   "execution_count": 16,
   "metadata": {},
   "outputs": [
    {
     "data": {
      "image/png": "[encoded data removed]",
      "text/plain": [
       "<Figure size 864x504 with 2 Axes>"
      ]
     },
     "metadata": {
      "needs_background": "light"
     },
     "output_type": "display_data"
    }
   ],
   "source": [
    "fig, axes = plt.subplots(1, 2, figsize=(12, 7))\n",
    "axes[0].bar(train_data['label'].unique(), train_data['label'].value_counts())\n",
    "\n",
    "labels = {'no_relation': 0, 'org': 0, 'per': 0}\n",
    "for label in train_data['label']:\n",
    "  if label != 'no_relation':\n",
    "    labels[label[:3]] += 1\n",
    "  else:\n",
    "    labels[label] += 1\n",
    "\n",
    "axes[1].pie([num/32470 for num in labels.values()],labels=labels.keys(), autopct='%.1f%%')\n",
    "\n",
    "plt.show()"
   ]
  },
  {
   "cell_type": "markdown",
   "metadata": {},
   "source": [
    "# 3. source 별 분포 "
   ]
  },
  {
   "cell_type": "code",
   "execution_count": 17,
   "metadata": {},
   "outputs": [
    {
     "data": {
      "image/png": "[encoded data removed]",
      "text/plain": [
       "<Figure size 432x288 with 1 Axes>"
      ]
     },
     "metadata": {},
     "output_type": "display_data"
    }
   ],
   "source": [
    "plt.pie(train_data['source'].value_counts(),labels=train_data['source'].unique())\n",
    "plt.show()"
   ]
  },
  {
   "cell_type": "markdown",
   "metadata": {},
   "source": [
    "# 4. Sentence Length"
   ]
  },
  {
   "cell_type": "markdown",
   "metadata": {},
   "source": [
    "### 어절 단위 문장 길이 분석, word level sentence length"
   ]
  },
  {
   "cell_type": "code",
   "execution_count": 18,
   "metadata": {},
   "outputs": [
    {
     "name": "stdout",
     "output_type": "stream",
     "text": [
      "Train Data\n",
      "              len\n",
      "min     3.000000\n",
      "max   108.000000\n",
      "mean   20.641423\n",
      "\n",
      "Test Data\n",
      "             len\n",
      "min    3.000000\n",
      "max   99.000000\n",
      "mean  20.455892\n"
     ]
    }
   ],
   "source": [
    "train_data['len'] = train_data['sentence'].apply(lambda x: len(x.split(' ')))\n",
    "test_data['len'] = test_data['sentence'].apply(lambda x: len(x.split(' ')))\n",
    "\n",
    "print('Train Data\\n', train_data.agg({'len':['min', 'max', 'mean']}))\n",
    "print()\n",
    "print('Test Data\\n', test_data.agg({'len':['min', 'max', 'mean']}))"
   ]
  },
  {
   "cell_type": "code",
   "execution_count": 19,
   "metadata": {},
   "outputs": [
    {
     "name": "stdout",
     "output_type": "stream",
     "text": [
      "(10, 20]     0.473018\n",
      "(20, 30]     0.265355\n",
      "(0, 10]      0.118462\n",
      "(30, 40]     0.092712\n",
      "(40, 50]     0.031571\n",
      "(50, 60]     0.011397\n",
      "(60, 70]     0.004435\n",
      "(70, 80]     0.001786\n",
      "(80, 90]     0.000986\n",
      "(90, 100]    0.000277\n",
      "Name: len, dtype: float64\n"
     ]
    },
    {
     "data": {
      "text/plain": [
       "<Axes: >"
      ]
     },
     "execution_count": 19,
     "metadata": {},
     "output_type": "execute_result"
    },
    {
     "data": {
      "image/png": "[encoded data removed]",
      "text/plain": [
       "<Figure size 432x288 with 1 Axes>"
      ]
     },
     "metadata": {
      "needs_background": "light"
     },
     "output_type": "display_data"
    }
   ],
   "source": [
    "bins = list(range(0, 108, 10))\n",
    "sentence_len_categories = pd.cut(train_data[\"len\"], bins)\n",
    "print(sentence_len_categories.value_counts(normalize=True))\n",
    "sentence_len_categories.value_counts(normalize=True).sort_index().plot(kind=\"bar\")"
   ]
  },
  {
   "cell_type": "code",
   "execution_count": 20,
   "metadata": {},
   "outputs": [
    {
     "name": "stdout",
     "output_type": "stream",
     "text": [
      "(10, 20]    0.463035\n",
      "(20, 30]    0.275374\n",
      "(0, 10]     0.120428\n",
      "(30, 40]    0.101494\n",
      "(40, 50]    0.027821\n",
      "(50, 60]    0.008372\n",
      "(60, 70]    0.002705\n",
      "(80, 90]    0.000386\n",
      "(70, 80]    0.000386\n",
      "Name: len, dtype: float64\n"
     ]
    },
    {
     "data": {
      "text/plain": [
       "<Axes: >"
      ]
     },
     "execution_count": 20,
     "metadata": {},
     "output_type": "execute_result"
    },
    {
     "data": {
      "image/png": "[encoded data removed]",
      "text/plain": [
       "<Figure size 432x288 with 1 Axes>"
      ]
     },
     "metadata": {
      "needs_background": "light"
     },
     "output_type": "display_data"
    }
   ],
   "source": [
    "bins = list(range(0, 99, 10))\n",
    "sentence_len_categories = pd.cut(test_data[\"len\"], bins)\n",
    "print(sentence_len_categories.value_counts(normalize=True))\n",
    "sentence_len_categories.value_counts(normalize=True).sort_index().plot(kind=\"bar\")"
   ]
  },
  {
   "cell_type": "markdown",
   "metadata": {},
   "source": [
    "### 토큰 단위 문장 길이 분석, Token level sentence length"
   ]
  },
  {
   "cell_type": "code",
   "execution_count": 21,
   "metadata": {},
   "outputs": [],
   "source": [
    "model = 'klue/bert-base'\n",
    "tokenizer = AutoTokenizer.from_pretrained('klue/bert-base')"
   ]
  },
  {
   "cell_type": "code",
   "execution_count": 22,
   "metadata": {},
   "outputs": [],
   "source": [
    "train_data['token_len'] = train_data['sentence'].apply(lambda x: len(tokenizer(x)['input_ids']))\n",
    "test_data['token_len'] = test_data['sentence'].apply(lambda x: len(tokenizer(x)['input_ids']))"
   ]
  },
  {
   "cell_type": "code",
   "execution_count": 23,
   "metadata": {},
   "outputs": [
    {
     "name": "stdout",
     "output_type": "stream",
     "text": [
      "       token_len\n",
      "min     9.000000\n",
      "max   231.000000\n",
      "mean   52.958608\n",
      "      token_len\n",
      "min        12.0\n",
      "max       223.0\n",
      "mean       51.2\n"
     ]
    }
   ],
   "source": [
    "print(train_data.agg({'token_len':['min', 'max', 'mean']}))\n",
    "print(test_data.agg({'token_len':['min', 'max', 'mean']}))"
   ]
  },
  {
   "cell_type": "code",
   "execution_count": 24,
   "metadata": {},
   "outputs": [
    {
     "name": "stdout",
     "output_type": "stream",
     "text": [
      "(40, 60]      0.358179\n",
      "(20, 40]      0.331752\n",
      "(60, 80]      0.171867\n",
      "(80, 100]     0.067854\n",
      "(100, 120]    0.028306\n",
      "(0, 20]       0.020020\n",
      "(120, 140]    0.012782\n",
      "(140, 160]    0.004712\n",
      "(160, 180]    0.002649\n",
      "(180, 200]    0.001109\n",
      "(200, 220]    0.000770\n",
      "Name: token_len, dtype: float64\n"
     ]
    },
    {
     "data": {
      "text/plain": [
       "<Axes: >"
      ]
     },
     "execution_count": 24,
     "metadata": {},
     "output_type": "execute_result"
    },
    {
     "data": {
      "image/png": "[encoded data removed]",
      "text/plain": [
       "<Figure size 432x288 with 1 Axes>"
      ]
     },
     "metadata": {
      "needs_background": "light"
     },
     "output_type": "display_data"
    }
   ],
   "source": [
    "bins = list(range(0, 231, 20))\n",
    "sentence_len_categories = pd.cut(train_data[\"token_len\"], bins)\n",
    "print(sentence_len_categories.value_counts(normalize=True))\n",
    "sentence_len_categories.value_counts(normalize=True).sort_index().plot(kind=\"bar\")"
   ]
  },
  {
   "cell_type": "code",
   "execution_count": 25,
   "metadata": {},
   "outputs": [
    {
     "name": "stdout",
     "output_type": "stream",
     "text": [
      "(20, 40]      0.347244\n",
      "(40, 60]      0.339001\n",
      "(60, 80]      0.179933\n",
      "(80, 100]     0.067620\n",
      "(0, 20]       0.030010\n",
      "(100, 120]    0.023828\n",
      "(120, 140]    0.007470\n",
      "(140, 160]    0.003478\n",
      "(180, 200]    0.000773\n",
      "(160, 180]    0.000644\n",
      "(200, 220]    0.000000\n",
      "Name: token_len, dtype: float64\n"
     ]
    },
    {
     "data": {
      "text/plain": [
       "<Axes: >"
      ]
     },
     "execution_count": 25,
     "metadata": {},
     "output_type": "execute_result"
    },
    {
     "data": {
      "image/png": "[encoded data removed]",
      "text/plain": [
       "<Figure size 432x288 with 1 Axes>"
      ]
     },
     "metadata": {
      "needs_background": "light"
     },
     "output_type": "display_data"
    }
   ],
   "source": [
    "bins = list(range(0, 223, 20))\n",
    "sentence_len_categories = pd.cut(test_data[\"token_len\"], bins)\n",
    "print(sentence_len_categories.value_counts(normalize=True))\n",
    "sentence_len_categories.value_counts(normalize=True).sort_index().plot(kind=\"bar\")"
   ]
  },
  {
   "cell_type": "markdown",
   "metadata": {},
   "source": [
    "# 5. 중복 sentence"
   ]
  },
  {
   "cell_type": "markdown",
   "metadata": {},
   "source": [
    "### 총 32470개의 데이터중에 sentence 중복을 제외하면 28803개의 문장이 있다.\n",
    "동일한 sentence를 가지고 서로 다른 label 혹은 entity를 적용하고 있음을 나타낸다."
   ]
  },
  {
   "cell_type": "code",
   "execution_count": 26,
   "metadata": {},
   "outputs": [
    {
     "data": {
      "text/plain": [
       "id                32470\n",
       "sentence          28803\n",
       "subject_entity    26340\n",
       "object_entity     25704\n",
       "label                30\n",
       "source                3\n",
       "len                  95\n",
       "token_len           207\n",
       "dtype: int64"
      ]
     },
     "execution_count": 26,
     "metadata": {},
     "output_type": "execute_result"
    }
   ],
   "source": [
    "train_data.nunique()"
   ]
  },
  {
   "cell_type": "code",
   "execution_count": 27,
   "metadata": {},
   "outputs": [
    {
     "data": {
      "text/plain": [
       "id                7765\n",
       "sentence          7764\n",
       "subject_entity    6758\n",
       "object_entity     7162\n",
       "label                1\n",
       "source               3\n",
       "len                 73\n",
       "token_len          153\n",
       "dtype: int64"
      ]
     },
     "execution_count": 27,
     "metadata": {},
     "output_type": "execute_result"
    }
   ],
   "source": [
    "test_data.nunique()"
   ]
  },
  {
   "cell_type": "code",
   "execution_count": 28,
   "metadata": {},
   "outputs": [],
   "source": [
    "def duplicated(data, subset, keep=False):\n",
    "    return data.duplicated(keep=keep, subset=subset)"
   ]
  },
  {
   "cell_type": "code",
   "execution_count": 29,
   "metadata": {},
   "outputs": [
    {
     "name": "stdout",
     "output_type": "stream",
     "text": [
      "sentence 가 중복되는 데이터의 수: 7090\n",
      "sentence, subject_entity 와 object_entity 가 동일한 데이터의 수: 93\n",
      "sentence, subject-entity, object_entity 와 label 이 동일한 데이터의 수: 84\n"
     ]
    }
   ],
   "source": [
    "print(f'sentence 가 중복되는 데이터의 수: {sum(duplicated(train_data, [\"sentence\"]))}')\n",
    "print(f'sentence, subject_entity 와 object_entity 가 동일한 데이터의 수: {sum(duplicated(train_data,[\"sentence\", \"subject_entity\", \"object_entity\"]))}')\n",
    "print(f'sentence, subject-entity, object_entity 와 label 이 동일한 데이터의 수: {sum(duplicated(train_data, [\"sentence\",\"subject_entity\",\"object_entity\", \"label\"]))}')"
   ]
  },
  {
   "cell_type": "code",
   "execution_count": 30,
   "metadata": {},
   "outputs": [],
   "source": [
    "sso = train_data[duplicated(train_data,[\"sentence\", \"subject_entity\", \"object_entity\"])]\n",
    "ssol = sso_indcies = train_data[duplicated(train_data,[\"sentence\", \"subject_entity\", \"object_entity\", \"label\"])]"
   ]
  },
  {
   "cell_type": "markdown",
   "metadata": {},
   "source": [
    "### Train Data : [sentence, subject_entity, object_entity, label] 까지 완벽히 동일한 데이터"
   ]
  },
  {
   "cell_type": "code",
   "execution_count": 31,
   "metadata": {},
   "outputs": [
    {
     "data": {
      "text/html": [
       "<div>\n",
       "<style scoped>\n",
       "    .dataframe tbody tr th:only-of-type {\n",
       "        vertical-align: middle;\n",
       "    }\n",
       "\n",
       "    .dataframe tbody tr th {\n",
       "        vertical-align: top;\n",
       "    }\n",
       "\n",
       "    .dataframe thead th {\n",
       "        text-align: right;\n",
       "    }\n",
       "</style>\n",
       "<table border=\"1\" class=\"dataframe\">\n",
       "  <thead>\n",
       "    <tr style=\"text-align: right;\">\n",
       "      <th></th>\n",
       "      <th>id</th>\n",
       "      <th>sentence</th>\n",
       "      <th>subject_entity</th>\n",
       "      <th>object_entity</th>\n",
       "      <th>label</th>\n",
       "      <th>source</th>\n",
       "      <th>len</th>\n",
       "      <th>token_len</th>\n",
       "    </tr>\n",
       "  </thead>\n",
       "  <tbody>\n",
       "    <tr>\n",
       "      <th>22090</th>\n",
       "      <td>22090</td>\n",
       "      <td>1959-60 시즌 이후의 알파 에트니키 / 수페르리가 엘라다, 그리스 컵, 그리고...</td>\n",
       "      <td>{'word': '수페르리가 엘라다', 'start_idx': 25, 'end_id...</td>\n",
       "      <td>{'word': '그리스', 'start_idx': 36, 'end_idx': 38...</td>\n",
       "      <td>no_relation</td>\n",
       "      <td>wikipedia</td>\n",
       "      <td>14</td>\n",
       "      <td>30</td>\n",
       "    </tr>\n",
       "    <tr>\n",
       "      <th>9618</th>\n",
       "      <td>9618</td>\n",
       "      <td>1959-60 시즌 이후의 알파 에트니키 / 수페르리가 엘라다, 그리스 컵, 그리고...</td>\n",
       "      <td>{'word': '수페르리가 엘라다', 'start_idx': 25, 'end_id...</td>\n",
       "      <td>{'word': '그리스', 'start_idx': 36, 'end_idx': 38...</td>\n",
       "      <td>no_relation</td>\n",
       "      <td>wikipedia</td>\n",
       "      <td>14</td>\n",
       "      <td>30</td>\n",
       "    </tr>\n",
       "    <tr>\n",
       "      <th>25368</th>\n",
       "      <td>25368</td>\n",
       "      <td>2001년 4월 민주국민당 김윤환 의원과 민주당 의원 사이의 정책 연합과 관련한 통...</td>\n",
       "      <td>{'word': '민주국민당', 'start_idx': 9, 'end_idx': 1...</td>\n",
       "      <td>{'word': '민주당', 'start_idx': 23, 'end_idx': 25...</td>\n",
       "      <td>no_relation</td>\n",
       "      <td>wikipedia</td>\n",
       "      <td>14</td>\n",
       "      <td>31</td>\n",
       "    </tr>\n",
       "    <tr>\n",
       "      <th>2500</th>\n",
       "      <td>2500</td>\n",
       "      <td>2001년 4월 민주국민당 김윤환 의원과 민주당 의원 사이의 정책 연합과 관련한 통...</td>\n",
       "      <td>{'word': '민주국민당', 'start_idx': 9, 'end_idx': 1...</td>\n",
       "      <td>{'word': '민주당', 'start_idx': 23, 'end_idx': 25...</td>\n",
       "      <td>no_relation</td>\n",
       "      <td>wikipedia</td>\n",
       "      <td>14</td>\n",
       "      <td>31</td>\n",
       "    </tr>\n",
       "    <tr>\n",
       "      <th>3547</th>\n",
       "      <td>3547</td>\n",
       "      <td>2010년 10월 15일 전라북도청을 방문한 맹형규 행정안전부 장관은 도내 지자체간...</td>\n",
       "      <td>{'word': '전라북도청', 'start_idx': 14, 'end_idx': ...</td>\n",
       "      <td>{'word': '행정안전부', 'start_idx': 29, 'end_idx': ...</td>\n",
       "      <td>no_relation</td>\n",
       "      <td>wikipedia</td>\n",
       "      <td>54</td>\n",
       "      <td>119</td>\n",
       "    </tr>\n",
       "    <tr>\n",
       "      <th>...</th>\n",
       "      <td>...</td>\n",
       "      <td>...</td>\n",
       "      <td>...</td>\n",
       "      <td>...</td>\n",
       "      <td>...</td>\n",
       "      <td>...</td>\n",
       "      <td>...</td>\n",
       "      <td>...</td>\n",
       "    </tr>\n",
       "    <tr>\n",
       "      <th>27325</th>\n",
       "      <td>27325</td>\n",
       "      <td>펀치넬로는 10cm의 권정열이 피처링으로 참여한 '미안해서 미안해'로 무대에 올랐다.</td>\n",
       "      <td>{'word': '권정열', 'start_idx': 12, 'end_idx': 14...</td>\n",
       "      <td>{'word': '10cm', 'start_idx': 6, 'end_idx': 9,...</td>\n",
       "      <td>per:employee_of</td>\n",
       "      <td>wikitree</td>\n",
       "      <td>9</td>\n",
       "      <td>31</td>\n",
       "    </tr>\n",
       "    <tr>\n",
       "      <th>14658</th>\n",
       "      <td>14658</td>\n",
       "      <td>함연지는 함영준 오뚜기 회장의 장녀다.</td>\n",
       "      <td>{'word': '오뚜기', 'start_idx': 9, 'end_idx': 11,...</td>\n",
       "      <td>{'word': '함영준', 'start_idx': 5, 'end_idx': 7, ...</td>\n",
       "      <td>org:top_members/employees</td>\n",
       "      <td>wikitree</td>\n",
       "      <td>5</td>\n",
       "      <td>15</td>\n",
       "    </tr>\n",
       "    <tr>\n",
       "      <th>6936</th>\n",
       "      <td>6936</td>\n",
       "      <td>함연지는 함영준 오뚜기 회장의 장녀다.</td>\n",
       "      <td>{'word': '오뚜기', 'start_idx': 9, 'end_idx': 11,...</td>\n",
       "      <td>{'word': '함영준', 'start_idx': 5, 'end_idx': 7, ...</td>\n",
       "      <td>org:top_members/employees</td>\n",
       "      <td>wikitree</td>\n",
       "      <td>5</td>\n",
       "      <td>15</td>\n",
       "    </tr>\n",
       "    <tr>\n",
       "      <th>20898</th>\n",
       "      <td>20898</td>\n",
       "      <td>화려한 재기를 뒤로하고 고(故) 안재환에게 돈을 빌려줬다는 루머로 마음고생을 하던 ...</td>\n",
       "      <td>{'word': '최진실', 'start_idx': 46, 'end_idx': 48...</td>\n",
       "      <td>{'word': '2008년 10월 2일', 'start_idx': 51, 'end...</td>\n",
       "      <td>per:date_of_death</td>\n",
       "      <td>wikitree</td>\n",
       "      <td>21</td>\n",
       "      <td>50</td>\n",
       "    </tr>\n",
       "    <tr>\n",
       "      <th>4248</th>\n",
       "      <td>4248</td>\n",
       "      <td>화려한 재기를 뒤로하고 고(故) 안재환에게 돈을 빌려줬다는 루머로 마음고생을 하던 ...</td>\n",
       "      <td>{'word': '최진실', 'start_idx': 46, 'end_idx': 48...</td>\n",
       "      <td>{'word': '2008년 10월 2일', 'start_idx': 51, 'end...</td>\n",
       "      <td>per:date_of_death</td>\n",
       "      <td>wikitree</td>\n",
       "      <td>21</td>\n",
       "      <td>50</td>\n",
       "    </tr>\n",
       "  </tbody>\n",
       "</table>\n",
       "<p>84 rows × 8 columns</p>\n",
       "</div>"
      ],
      "text/plain": [
       "          id                                           sentence  \\\n",
       "22090  22090  1959-60 시즌 이후의 알파 에트니키 / 수페르리가 엘라다, 그리스 컵, 그리고...   \n",
       "9618    9618  1959-60 시즌 이후의 알파 에트니키 / 수페르리가 엘라다, 그리스 컵, 그리고...   \n",
       "25368  25368  2001년 4월 민주국민당 김윤환 의원과 민주당 의원 사이의 정책 연합과 관련한 통...   \n",
       "2500    2500  2001년 4월 민주국민당 김윤환 의원과 민주당 의원 사이의 정책 연합과 관련한 통...   \n",
       "3547    3547  2010년 10월 15일 전라북도청을 방문한 맹형규 행정안전부 장관은 도내 지자체간...   \n",
       "...      ...                                                ...   \n",
       "27325  27325    펀치넬로는 10cm의 권정열이 피처링으로 참여한 '미안해서 미안해'로 무대에 올랐다.   \n",
       "14658  14658                              함연지는 함영준 오뚜기 회장의 장녀다.   \n",
       "6936    6936                              함연지는 함영준 오뚜기 회장의 장녀다.   \n",
       "20898  20898  화려한 재기를 뒤로하고 고(故) 안재환에게 돈을 빌려줬다는 루머로 마음고생을 하던 ...   \n",
       "4248    4248  화려한 재기를 뒤로하고 고(故) 안재환에게 돈을 빌려줬다는 루머로 마음고생을 하던 ...   \n",
       "\n",
       "                                          subject_entity  \\\n",
       "22090  {'word': '수페르리가 엘라다', 'start_idx': 25, 'end_id...   \n",
       "9618   {'word': '수페르리가 엘라다', 'start_idx': 25, 'end_id...   \n",
       "25368  {'word': '민주국민당', 'start_idx': 9, 'end_idx': 1...   \n",
       "2500   {'word': '민주국민당', 'start_idx': 9, 'end_idx': 1...   \n",
       "3547   {'word': '전라북도청', 'start_idx': 14, 'end_idx': ...   \n",
       "...                                                  ...   \n",
       "27325  {'word': '권정열', 'start_idx': 12, 'end_idx': 14...   \n",
       "14658  {'word': '오뚜기', 'start_idx': 9, 'end_idx': 11,...   \n",
       "6936   {'word': '오뚜기', 'start_idx': 9, 'end_idx': 11,...   \n",
       "20898  {'word': '최진실', 'start_idx': 46, 'end_idx': 48...   \n",
       "4248   {'word': '최진실', 'start_idx': 46, 'end_idx': 48...   \n",
       "\n",
       "                                           object_entity  \\\n",
       "22090  {'word': '그리스', 'start_idx': 36, 'end_idx': 38...   \n",
       "9618   {'word': '그리스', 'start_idx': 36, 'end_idx': 38...   \n",
       "25368  {'word': '민주당', 'start_idx': 23, 'end_idx': 25...   \n",
       "2500   {'word': '민주당', 'start_idx': 23, 'end_idx': 25...   \n",
       "3547   {'word': '행정안전부', 'start_idx': 29, 'end_idx': ...   \n",
       "...                                                  ...   \n",
       "27325  {'word': '10cm', 'start_idx': 6, 'end_idx': 9,...   \n",
       "14658  {'word': '함영준', 'start_idx': 5, 'end_idx': 7, ...   \n",
       "6936   {'word': '함영준', 'start_idx': 5, 'end_idx': 7, ...   \n",
       "20898  {'word': '2008년 10월 2일', 'start_idx': 51, 'end...   \n",
       "4248   {'word': '2008년 10월 2일', 'start_idx': 51, 'end...   \n",
       "\n",
       "                           label     source  len  token_len  \n",
       "22090                no_relation  wikipedia   14         30  \n",
       "9618                 no_relation  wikipedia   14         30  \n",
       "25368                no_relation  wikipedia   14         31  \n",
       "2500                 no_relation  wikipedia   14         31  \n",
       "3547                 no_relation  wikipedia   54        119  \n",
       "...                          ...        ...  ...        ...  \n",
       "27325            per:employee_of   wikitree    9         31  \n",
       "14658  org:top_members/employees   wikitree    5         15  \n",
       "6936   org:top_members/employees   wikitree    5         15  \n",
       "20898          per:date_of_death   wikitree   21         50  \n",
       "4248           per:date_of_death   wikitree   21         50  \n",
       "\n",
       "[84 rows x 8 columns]"
      ]
     },
     "execution_count": 31,
     "metadata": {},
     "output_type": "execute_result"
    }
   ],
   "source": [
    "ssol.sort_values('sentence')"
   ]
  },
  {
   "cell_type": "markdown",
   "metadata": {},
   "source": [
    "### Train Data : [sentence, subject_entity, object_entity] 까지 완벽히 동일한 데이터"
   ]
  },
  {
   "cell_type": "code",
   "execution_count": 32,
   "metadata": {},
   "outputs": [
    {
     "data": {
      "text/html": [
       "<div>\n",
       "<style scoped>\n",
       "    .dataframe tbody tr th:only-of-type {\n",
       "        vertical-align: middle;\n",
       "    }\n",
       "\n",
       "    .dataframe tbody tr th {\n",
       "        vertical-align: top;\n",
       "    }\n",
       "\n",
       "    .dataframe thead th {\n",
       "        text-align: right;\n",
       "    }\n",
       "</style>\n",
       "<table border=\"1\" class=\"dataframe\">\n",
       "  <thead>\n",
       "    <tr style=\"text-align: right;\">\n",
       "      <th></th>\n",
       "      <th>id</th>\n",
       "      <th>sentence</th>\n",
       "      <th>subject_entity</th>\n",
       "      <th>object_entity</th>\n",
       "      <th>label</th>\n",
       "      <th>source</th>\n",
       "      <th>len</th>\n",
       "      <th>token_len</th>\n",
       "    </tr>\n",
       "  </thead>\n",
       "  <tbody>\n",
       "    <tr>\n",
       "      <th>9618</th>\n",
       "      <td>9618</td>\n",
       "      <td>1959-60 시즌 이후의 알파 에트니키 / 수페르리가 엘라다, 그리스 컵, 그리고...</td>\n",
       "      <td>{'word': '수페르리가 엘라다', 'start_idx': 25, 'end_id...</td>\n",
       "      <td>{'word': '그리스', 'start_idx': 36, 'end_idx': 38...</td>\n",
       "      <td>no_relation</td>\n",
       "      <td>wikipedia</td>\n",
       "      <td>14</td>\n",
       "      <td>30</td>\n",
       "    </tr>\n",
       "    <tr>\n",
       "      <th>22090</th>\n",
       "      <td>22090</td>\n",
       "      <td>1959-60 시즌 이후의 알파 에트니키 / 수페르리가 엘라다, 그리스 컵, 그리고...</td>\n",
       "      <td>{'word': '수페르리가 엘라다', 'start_idx': 25, 'end_id...</td>\n",
       "      <td>{'word': '그리스', 'start_idx': 36, 'end_idx': 38...</td>\n",
       "      <td>no_relation</td>\n",
       "      <td>wikipedia</td>\n",
       "      <td>14</td>\n",
       "      <td>30</td>\n",
       "    </tr>\n",
       "    <tr>\n",
       "      <th>25368</th>\n",
       "      <td>25368</td>\n",
       "      <td>2001년 4월 민주국민당 김윤환 의원과 민주당 의원 사이의 정책 연합과 관련한 통...</td>\n",
       "      <td>{'word': '민주국민당', 'start_idx': 9, 'end_idx': 1...</td>\n",
       "      <td>{'word': '민주당', 'start_idx': 23, 'end_idx': 25...</td>\n",
       "      <td>no_relation</td>\n",
       "      <td>wikipedia</td>\n",
       "      <td>14</td>\n",
       "      <td>31</td>\n",
       "    </tr>\n",
       "    <tr>\n",
       "      <th>2500</th>\n",
       "      <td>2500</td>\n",
       "      <td>2001년 4월 민주국민당 김윤환 의원과 민주당 의원 사이의 정책 연합과 관련한 통...</td>\n",
       "      <td>{'word': '민주국민당', 'start_idx': 9, 'end_idx': 1...</td>\n",
       "      <td>{'word': '민주당', 'start_idx': 23, 'end_idx': 25...</td>\n",
       "      <td>no_relation</td>\n",
       "      <td>wikipedia</td>\n",
       "      <td>14</td>\n",
       "      <td>31</td>\n",
       "    </tr>\n",
       "    <tr>\n",
       "      <th>255</th>\n",
       "      <td>255</td>\n",
       "      <td>2010년 10월 15일 전라북도청을 방문한 맹형규 행정안전부 장관은 도내 지자체간...</td>\n",
       "      <td>{'word': '전라북도청', 'start_idx': 14, 'end_idx': ...</td>\n",
       "      <td>{'word': '행정안전부', 'start_idx': 29, 'end_idx': ...</td>\n",
       "      <td>no_relation</td>\n",
       "      <td>wikipedia</td>\n",
       "      <td>54</td>\n",
       "      <td>119</td>\n",
       "    </tr>\n",
       "    <tr>\n",
       "      <th>...</th>\n",
       "      <td>...</td>\n",
       "      <td>...</td>\n",
       "      <td>...</td>\n",
       "      <td>...</td>\n",
       "      <td>...</td>\n",
       "      <td>...</td>\n",
       "      <td>...</td>\n",
       "      <td>...</td>\n",
       "    </tr>\n",
       "    <tr>\n",
       "      <th>4212</th>\n",
       "      <td>4212</td>\n",
       "      <td>한편 전라남도는 최근 확진자가 발생한 순천시와 여수시에 마스크를 각각 2만장씩 총 ...</td>\n",
       "      <td>{'word': '전라남도', 'start_idx': 3, 'end_idx': 6,...</td>\n",
       "      <td>{'word': '여수시', 'start_idx': 26, 'end_idx': 28...</td>\n",
       "      <td>org:members</td>\n",
       "      <td>wikitree</td>\n",
       "      <td>23</td>\n",
       "      <td>50</td>\n",
       "    </tr>\n",
       "    <tr>\n",
       "      <th>6936</th>\n",
       "      <td>6936</td>\n",
       "      <td>함연지는 함영준 오뚜기 회장의 장녀다.</td>\n",
       "      <td>{'word': '오뚜기', 'start_idx': 9, 'end_idx': 11,...</td>\n",
       "      <td>{'word': '함영준', 'start_idx': 5, 'end_idx': 7, ...</td>\n",
       "      <td>org:top_members/employees</td>\n",
       "      <td>wikitree</td>\n",
       "      <td>5</td>\n",
       "      <td>15</td>\n",
       "    </tr>\n",
       "    <tr>\n",
       "      <th>14658</th>\n",
       "      <td>14658</td>\n",
       "      <td>함연지는 함영준 오뚜기 회장의 장녀다.</td>\n",
       "      <td>{'word': '오뚜기', 'start_idx': 9, 'end_idx': 11,...</td>\n",
       "      <td>{'word': '함영준', 'start_idx': 5, 'end_idx': 7, ...</td>\n",
       "      <td>org:top_members/employees</td>\n",
       "      <td>wikitree</td>\n",
       "      <td>5</td>\n",
       "      <td>15</td>\n",
       "    </tr>\n",
       "    <tr>\n",
       "      <th>4248</th>\n",
       "      <td>4248</td>\n",
       "      <td>화려한 재기를 뒤로하고 고(故) 안재환에게 돈을 빌려줬다는 루머로 마음고생을 하던 ...</td>\n",
       "      <td>{'word': '최진실', 'start_idx': 46, 'end_idx': 48...</td>\n",
       "      <td>{'word': '2008년 10월 2일', 'start_idx': 51, 'end...</td>\n",
       "      <td>per:date_of_death</td>\n",
       "      <td>wikitree</td>\n",
       "      <td>21</td>\n",
       "      <td>50</td>\n",
       "    </tr>\n",
       "    <tr>\n",
       "      <th>20898</th>\n",
       "      <td>20898</td>\n",
       "      <td>화려한 재기를 뒤로하고 고(故) 안재환에게 돈을 빌려줬다는 루머로 마음고생을 하던 ...</td>\n",
       "      <td>{'word': '최진실', 'start_idx': 46, 'end_idx': 48...</td>\n",
       "      <td>{'word': '2008년 10월 2일', 'start_idx': 51, 'end...</td>\n",
       "      <td>per:date_of_death</td>\n",
       "      <td>wikitree</td>\n",
       "      <td>21</td>\n",
       "      <td>50</td>\n",
       "    </tr>\n",
       "  </tbody>\n",
       "</table>\n",
       "<p>93 rows × 8 columns</p>\n",
       "</div>"
      ],
      "text/plain": [
       "          id                                           sentence  \\\n",
       "9618    9618  1959-60 시즌 이후의 알파 에트니키 / 수페르리가 엘라다, 그리스 컵, 그리고...   \n",
       "22090  22090  1959-60 시즌 이후의 알파 에트니키 / 수페르리가 엘라다, 그리스 컵, 그리고...   \n",
       "25368  25368  2001년 4월 민주국민당 김윤환 의원과 민주당 의원 사이의 정책 연합과 관련한 통...   \n",
       "2500    2500  2001년 4월 민주국민당 김윤환 의원과 민주당 의원 사이의 정책 연합과 관련한 통...   \n",
       "255      255  2010년 10월 15일 전라북도청을 방문한 맹형규 행정안전부 장관은 도내 지자체간...   \n",
       "...      ...                                                ...   \n",
       "4212    4212  한편 전라남도는 최근 확진자가 발생한 순천시와 여수시에 마스크를 각각 2만장씩 총 ...   \n",
       "6936    6936                              함연지는 함영준 오뚜기 회장의 장녀다.   \n",
       "14658  14658                              함연지는 함영준 오뚜기 회장의 장녀다.   \n",
       "4248    4248  화려한 재기를 뒤로하고 고(故) 안재환에게 돈을 빌려줬다는 루머로 마음고생을 하던 ...   \n",
       "20898  20898  화려한 재기를 뒤로하고 고(故) 안재환에게 돈을 빌려줬다는 루머로 마음고생을 하던 ...   \n",
       "\n",
       "                                          subject_entity  \\\n",
       "9618   {'word': '수페르리가 엘라다', 'start_idx': 25, 'end_id...   \n",
       "22090  {'word': '수페르리가 엘라다', 'start_idx': 25, 'end_id...   \n",
       "25368  {'word': '민주국민당', 'start_idx': 9, 'end_idx': 1...   \n",
       "2500   {'word': '민주국민당', 'start_idx': 9, 'end_idx': 1...   \n",
       "255    {'word': '전라북도청', 'start_idx': 14, 'end_idx': ...   \n",
       "...                                                  ...   \n",
       "4212   {'word': '전라남도', 'start_idx': 3, 'end_idx': 6,...   \n",
       "6936   {'word': '오뚜기', 'start_idx': 9, 'end_idx': 11,...   \n",
       "14658  {'word': '오뚜기', 'start_idx': 9, 'end_idx': 11,...   \n",
       "4248   {'word': '최진실', 'start_idx': 46, 'end_idx': 48...   \n",
       "20898  {'word': '최진실', 'start_idx': 46, 'end_idx': 48...   \n",
       "\n",
       "                                           object_entity  \\\n",
       "9618   {'word': '그리스', 'start_idx': 36, 'end_idx': 38...   \n",
       "22090  {'word': '그리스', 'start_idx': 36, 'end_idx': 38...   \n",
       "25368  {'word': '민주당', 'start_idx': 23, 'end_idx': 25...   \n",
       "2500   {'word': '민주당', 'start_idx': 23, 'end_idx': 25...   \n",
       "255    {'word': '행정안전부', 'start_idx': 29, 'end_idx': ...   \n",
       "...                                                  ...   \n",
       "4212   {'word': '여수시', 'start_idx': 26, 'end_idx': 28...   \n",
       "6936   {'word': '함영준', 'start_idx': 5, 'end_idx': 7, ...   \n",
       "14658  {'word': '함영준', 'start_idx': 5, 'end_idx': 7, ...   \n",
       "4248   {'word': '2008년 10월 2일', 'start_idx': 51, 'end...   \n",
       "20898  {'word': '2008년 10월 2일', 'start_idx': 51, 'end...   \n",
       "\n",
       "                           label     source  len  token_len  \n",
       "9618                 no_relation  wikipedia   14         30  \n",
       "22090                no_relation  wikipedia   14         30  \n",
       "25368                no_relation  wikipedia   14         31  \n",
       "2500                 no_relation  wikipedia   14         31  \n",
       "255                  no_relation  wikipedia   54        119  \n",
       "...                          ...        ...  ...        ...  \n",
       "4212                 org:members   wikitree   23         50  \n",
       "6936   org:top_members/employees   wikitree    5         15  \n",
       "14658  org:top_members/employees   wikitree    5         15  \n",
       "4248           per:date_of_death   wikitree   21         50  \n",
       "20898          per:date_of_death   wikitree   21         50  \n",
       "\n",
       "[93 rows x 8 columns]"
      ]
     },
     "execution_count": 32,
     "metadata": {},
     "output_type": "execute_result"
    }
   ],
   "source": [
    "sso.sort_values('sentence')"
   ]
  },
  {
   "cell_type": "markdown",
   "metadata": {},
   "source": [
    "### sso, ssol의 차집합 구하기 (동일한 sentence, sub/obj entity에서 label이 다른 경우)"
   ]
  },
  {
   "cell_type": "code",
   "execution_count": 33,
   "metadata": {},
   "outputs": [
    {
     "data": {
      "text/html": [
       "<div>\n",
       "<style scoped>\n",
       "    .dataframe tbody tr th:only-of-type {\n",
       "        vertical-align: middle;\n",
       "    }\n",
       "\n",
       "    .dataframe tbody tr th {\n",
       "        vertical-align: top;\n",
       "    }\n",
       "\n",
       "    .dataframe thead th {\n",
       "        text-align: right;\n",
       "    }\n",
       "</style>\n",
       "<table border=\"1\" class=\"dataframe\">\n",
       "  <thead>\n",
       "    <tr style=\"text-align: right;\">\n",
       "      <th></th>\n",
       "      <th>id</th>\n",
       "      <th>sentence</th>\n",
       "      <th>subject_entity</th>\n",
       "      <th>object_entity</th>\n",
       "      <th>label</th>\n",
       "      <th>source</th>\n",
       "      <th>len</th>\n",
       "      <th>token_len</th>\n",
       "    </tr>\n",
       "  </thead>\n",
       "  <tbody>\n",
       "    <tr>\n",
       "      <th>17</th>\n",
       "      <td>6749</td>\n",
       "      <td>대한항공은 5일 조양호 회장의 3자녀가 보유한 싸이버스카이 주식 9만9900주 전량...</td>\n",
       "      <td>{'word': '대한항공', 'start_idx': 0, 'end_idx': 3,...</td>\n",
       "      <td>{'word': '조양호', 'start_idx': 9, 'end_idx': 11,...</td>\n",
       "      <td>no_relation</td>\n",
       "      <td>wikipedia</td>\n",
       "      <td>14</td>\n",
       "      <td>36</td>\n",
       "    </tr>\n",
       "    <tr>\n",
       "      <th>35</th>\n",
       "      <td>12829</td>\n",
       "      <td>대한항공은 5일 조양호 회장의 3자녀가 보유한 싸이버스카이 주식 9만9900주 전량...</td>\n",
       "      <td>{'word': '대한항공', 'start_idx': 0, 'end_idx': 3,...</td>\n",
       "      <td>{'word': '조양호', 'start_idx': 9, 'end_idx': 11,...</td>\n",
       "      <td>org:top_members/employees</td>\n",
       "      <td>wikipedia</td>\n",
       "      <td>14</td>\n",
       "      <td>36</td>\n",
       "    </tr>\n",
       "    <tr>\n",
       "      <th>22</th>\n",
       "      <td>8364</td>\n",
       "      <td>배우 김병철 씨가 연기하는 정복동은 천리마마트를 망하게 하기 위해 여러 계획을 세우...</td>\n",
       "      <td>{'word': '정복동', 'start_idx': 15, 'end_idx': 17...</td>\n",
       "      <td>{'word': '김병철', 'start_idx': 3, 'end_idx': 5, ...</td>\n",
       "      <td>no_relation</td>\n",
       "      <td>wikitree</td>\n",
       "      <td>18</td>\n",
       "      <td>39</td>\n",
       "    </tr>\n",
       "    <tr>\n",
       "      <th>92</th>\n",
       "      <td>32299</td>\n",
       "      <td>배우 김병철 씨가 연기하는 정복동은 천리마마트를 망하게 하기 위해 여러 계획을 세우...</td>\n",
       "      <td>{'word': '정복동', 'start_idx': 15, 'end_idx': 17...</td>\n",
       "      <td>{'word': '김병철', 'start_idx': 3, 'end_idx': 5, ...</td>\n",
       "      <td>per:alternate_names</td>\n",
       "      <td>wikitree</td>\n",
       "      <td>18</td>\n",
       "      <td>39</td>\n",
       "    </tr>\n",
       "    <tr>\n",
       "      <th>33</th>\n",
       "      <td>11511</td>\n",
       "      <td>영화 '버즈 오브 프레이'는 배트맨이 없는 고담시에서 할리퀸, 헌트리스, 블랙 카나...</td>\n",
       "      <td>{'word': '배트맨', 'start_idx': 16, 'end_idx': 18...</td>\n",
       "      <td>{'word': '고담시', 'start_idx': 24, 'end_idx': 26...</td>\n",
       "      <td>per:place_of_residence</td>\n",
       "      <td>wikitree</td>\n",
       "      <td>17</td>\n",
       "      <td>41</td>\n",
       "    </tr>\n",
       "    <tr>\n",
       "      <th>57</th>\n",
       "      <td>22258</td>\n",
       "      <td>영화 '버즈 오브 프레이'는 배트맨이 없는 고담시에서 할리퀸, 헌트리스, 블랙 카나...</td>\n",
       "      <td>{'word': '배트맨', 'start_idx': 16, 'end_idx': 18...</td>\n",
       "      <td>{'word': '고담시', 'start_idx': 24, 'end_idx': 26...</td>\n",
       "      <td>no_relation</td>\n",
       "      <td>wikitree</td>\n",
       "      <td>17</td>\n",
       "      <td>41</td>\n",
       "    </tr>\n",
       "    <tr>\n",
       "      <th>7</th>\n",
       "      <td>3296</td>\n",
       "      <td>이날 프로그램 공개에서는 전북영산작법보존회와 김명신‧정상희의 사제동행 판소리, 관악...</td>\n",
       "      <td>{'word': '강태환', 'start_idx': 62, 'end_idx': 64...</td>\n",
       "      <td>{'word': '색소폰', 'start_idx': 58, 'end_idx': 60...</td>\n",
       "      <td>per:title</td>\n",
       "      <td>wikitree</td>\n",
       "      <td>22</td>\n",
       "      <td>52</td>\n",
       "    </tr>\n",
       "    <tr>\n",
       "      <th>10</th>\n",
       "      <td>4212</td>\n",
       "      <td>한편 전라남도는 최근 확진자가 발생한 순천시와 여수시에 마스크를 각각 2만장씩 총 ...</td>\n",
       "      <td>{'word': '전라남도', 'start_idx': 3, 'end_idx': 6,...</td>\n",
       "      <td>{'word': '여수시', 'start_idx': 26, 'end_idx': 28...</td>\n",
       "      <td>org:members</td>\n",
       "      <td>wikitree</td>\n",
       "      <td>23</td>\n",
       "      <td>50</td>\n",
       "    </tr>\n",
       "    <tr>\n",
       "      <th>64</th>\n",
       "      <td>25094</td>\n",
       "      <td>한편 전라남도는 최근 확진자가 발생한 순천시와 여수시에 마스크를 각각 2만장씩 총 ...</td>\n",
       "      <td>{'word': '전라남도', 'start_idx': 3, 'end_idx': 6,...</td>\n",
       "      <td>{'word': '여수시', 'start_idx': 26, 'end_idx': 28...</td>\n",
       "      <td>org:place_of_headquarters</td>\n",
       "      <td>wikitree</td>\n",
       "      <td>23</td>\n",
       "      <td>50</td>\n",
       "    </tr>\n",
       "  </tbody>\n",
       "</table>\n",
       "</div>"
      ],
      "text/plain": [
       "       id                                           sentence  \\\n",
       "17   6749  대한항공은 5일 조양호 회장의 3자녀가 보유한 싸이버스카이 주식 9만9900주 전량...   \n",
       "35  12829  대한항공은 5일 조양호 회장의 3자녀가 보유한 싸이버스카이 주식 9만9900주 전량...   \n",
       "22   8364  배우 김병철 씨가 연기하는 정복동은 천리마마트를 망하게 하기 위해 여러 계획을 세우...   \n",
       "92  32299  배우 김병철 씨가 연기하는 정복동은 천리마마트를 망하게 하기 위해 여러 계획을 세우...   \n",
       "33  11511  영화 '버즈 오브 프레이'는 배트맨이 없는 고담시에서 할리퀸, 헌트리스, 블랙 카나...   \n",
       "57  22258  영화 '버즈 오브 프레이'는 배트맨이 없는 고담시에서 할리퀸, 헌트리스, 블랙 카나...   \n",
       "7    3296  이날 프로그램 공개에서는 전북영산작법보존회와 김명신‧정상희의 사제동행 판소리, 관악...   \n",
       "10   4212  한편 전라남도는 최근 확진자가 발생한 순천시와 여수시에 마스크를 각각 2만장씩 총 ...   \n",
       "64  25094  한편 전라남도는 최근 확진자가 발생한 순천시와 여수시에 마스크를 각각 2만장씩 총 ...   \n",
       "\n",
       "                                       subject_entity  \\\n",
       "17  {'word': '대한항공', 'start_idx': 0, 'end_idx': 3,...   \n",
       "35  {'word': '대한항공', 'start_idx': 0, 'end_idx': 3,...   \n",
       "22  {'word': '정복동', 'start_idx': 15, 'end_idx': 17...   \n",
       "92  {'word': '정복동', 'start_idx': 15, 'end_idx': 17...   \n",
       "33  {'word': '배트맨', 'start_idx': 16, 'end_idx': 18...   \n",
       "57  {'word': '배트맨', 'start_idx': 16, 'end_idx': 18...   \n",
       "7   {'word': '강태환', 'start_idx': 62, 'end_idx': 64...   \n",
       "10  {'word': '전라남도', 'start_idx': 3, 'end_idx': 6,...   \n",
       "64  {'word': '전라남도', 'start_idx': 3, 'end_idx': 6,...   \n",
       "\n",
       "                                        object_entity  \\\n",
       "17  {'word': '조양호', 'start_idx': 9, 'end_idx': 11,...   \n",
       "35  {'word': '조양호', 'start_idx': 9, 'end_idx': 11,...   \n",
       "22  {'word': '김병철', 'start_idx': 3, 'end_idx': 5, ...   \n",
       "92  {'word': '김병철', 'start_idx': 3, 'end_idx': 5, ...   \n",
       "33  {'word': '고담시', 'start_idx': 24, 'end_idx': 26...   \n",
       "57  {'word': '고담시', 'start_idx': 24, 'end_idx': 26...   \n",
       "7   {'word': '색소폰', 'start_idx': 58, 'end_idx': 60...   \n",
       "10  {'word': '여수시', 'start_idx': 26, 'end_idx': 28...   \n",
       "64  {'word': '여수시', 'start_idx': 26, 'end_idx': 28...   \n",
       "\n",
       "                        label     source  len  token_len  \n",
       "17                no_relation  wikipedia   14         36  \n",
       "35  org:top_members/employees  wikipedia   14         36  \n",
       "22                no_relation   wikitree   18         39  \n",
       "92        per:alternate_names   wikitree   18         39  \n",
       "33     per:place_of_residence   wikitree   17         41  \n",
       "57                no_relation   wikitree   17         41  \n",
       "7                   per:title   wikitree   22         52  \n",
       "10                org:members   wikitree   23         50  \n",
       "64  org:place_of_headquarters   wikitree   23         50  "
      ]
     },
     "execution_count": 33,
     "metadata": {},
     "output_type": "execute_result"
    }
   ],
   "source": [
    "# sso 와 ssol 의 차집합 구하기\n",
    "df = pd.merge(sso, ssol, how='outer', indicator=True)\n",
    "df.query('_merge==\"left_only\"').drop(columns='_merge').sort_values('sentence')"
   ]
  },
  {
   "cell_type": "markdown",
   "metadata": {},
   "source": [
    "# 6. 중복 sentence case study"
   ]
  },
  {
   "cell_type": "markdown",
   "metadata": {},
   "source": [
    "### Train Data : Case1. sentence는 동일한데 sub/obj 혹은 label이 다른 경우"
   ]
  },
  {
   "cell_type": "markdown",
   "metadata": {},
   "source": [
    "\"대한항공은 5일 조양호 회장의 3자녀가 보유한 싸이버스카이 주식 9만9900주 전량을 63억 원에 취득한다고 밝혔다.\"\n",
    "\n",
    "id: 6749, 7276, 12829"
   ]
  },
  {
   "cell_type": "code",
   "execution_count": 34,
   "metadata": {},
   "outputs": [
    {
     "data": {
      "text/plain": [
       "array([[\"{'word': '대한항공', 'start_idx': 0, 'end_idx': 3, 'type': 'ORG'}\",\n",
       "        \"{'word': '조양호', 'start_idx': 9, 'end_idx': 11, 'type': 'PER'}\",\n",
       "        'no_relation']], dtype=object)"
      ]
     },
     "metadata": {},
     "output_type": "display_data"
    },
    {
     "data": {
      "text/plain": [
       "array([[\"{'word': '조양호', 'start_idx': 9, 'end_idx': 11, 'type': 'PER'}\",\n",
       "        \"{'word': '대한항공', 'start_idx': 0, 'end_idx': 3, 'type': 'ORG'}\",\n",
       "        'no_relation']], dtype=object)"
      ]
     },
     "metadata": {},
     "output_type": "display_data"
    },
    {
     "data": {
      "text/plain": [
       "array([[\"{'word': '대한항공', 'start_idx': 0, 'end_idx': 3, 'type': 'ORG'}\",\n",
       "        \"{'word': '조양호', 'start_idx': 9, 'end_idx': 11, 'type': 'PER'}\",\n",
       "        'org:top_members/employees']], dtype=object)"
      ]
     },
     "metadata": {},
     "output_type": "display_data"
    }
   ],
   "source": [
    "target_columns = ['subject_entity', 'object_entity', 'label']\n",
    "\n",
    "display(get_columns(train_data, 6749, target_columns).values)\n",
    "display(get_columns(train_data, 7276, target_columns).values)\n",
    "display(get_columns(train_data, 12829, target_columns).values)"
   ]
  },
  {
   "cell_type": "markdown",
   "metadata": {},
   "source": [
    "'org:top_members/employees' 는 no_relation 을 제외했을 때 가장 데이터가 많은 label 이다."
   ]
  },
  {
   "cell_type": "markdown",
   "metadata": {},
   "source": [
    "### Train Data : Case2. sentence와 obj/sub는 동일한데 label이 다른 경우"
   ]
  },
  {
   "cell_type": "markdown",
   "metadata": {},
   "source": [
    "\"이날 프로그램 공개에서는 전북영산작법보존회와 김명신‧정상희의 사제동행 판소리, 관악 명인 대금 원장현, 색소폰 강태환의 무대를 선보이며 올해 축제에 대한 기대감을 한껏 끌어 올렸다.\"\n",
    "\n",
    "id: 277, 3296, 10202"
   ]
  },
  {
   "cell_type": "code",
   "execution_count": 35,
   "metadata": {},
   "outputs": [
    {
     "data": {
      "text/plain": [
       "array([[\"{'word': '강태환', 'start_idx': 62, 'end_idx': 64, 'type': 'PER'}\",\n",
       "        \"{'word': '색소폰', 'start_idx': 58, 'end_idx': 60, 'type': 'POH'}\",\n",
       "        'no_relation']], dtype=object)"
      ]
     },
     "metadata": {},
     "output_type": "display_data"
    },
    {
     "data": {
      "text/plain": [
       "array([[\"{'word': '강태환', 'start_idx': 62, 'end_idx': 64, 'type': 'PER'}\",\n",
       "        \"{'word': '색소폰', 'start_idx': 58, 'end_idx': 60, 'type': 'POH'}\",\n",
       "        'no_relation']], dtype=object)"
      ]
     },
     "metadata": {},
     "output_type": "display_data"
    },
    {
     "data": {
      "text/plain": [
       "array([[\"{'word': '강태환', 'start_idx': 62, 'end_idx': 64, 'type': 'PER'}\",\n",
       "        \"{'word': '색소폰', 'start_idx': 58, 'end_idx': 60, 'type': 'POH'}\",\n",
       "        'per:title']], dtype=object)"
      ]
     },
     "metadata": {},
     "output_type": "display_data"
    }
   ],
   "source": [
    "display(get_columns(train_data, 277, target_columns).values)\n",
    "display(get_columns(train_data, 10202, target_columns).values)\n",
    "display(get_columns(train_data, 3296, target_columns).values)"
   ]
  },
  {
   "cell_type": "markdown",
   "metadata": {},
   "source": [
    "\"배우 김병철 씨가 연기하는 정복동은 천리마마트를 망하게 하기 위해 여러 계획을 세우지만 반대로 하는 일마다 대박을 치는 캐릭터이다.\"\n",
    "\n",
    "id: 8364, 32299"
   ]
  },
  {
   "cell_type": "code",
   "execution_count": 36,
   "metadata": {},
   "outputs": [
    {
     "data": {
      "text/plain": [
       "array([[\"{'word': '정복동', 'start_idx': 15, 'end_idx': 17, 'type': 'PER'}\",\n",
       "        \"{'word': '김병철', 'start_idx': 3, 'end_idx': 5, 'type': 'PER'}\",\n",
       "        'no_relation']], dtype=object)"
      ]
     },
     "metadata": {},
     "output_type": "display_data"
    },
    {
     "data": {
      "text/plain": [
       "array([[\"{'word': '정복동', 'start_idx': 15, 'end_idx': 17, 'type': 'PER'}\",\n",
       "        \"{'word': '김병철', 'start_idx': 3, 'end_idx': 5, 'type': 'PER'}\",\n",
       "        'per:alternate_names']], dtype=object)"
      ]
     },
     "metadata": {},
     "output_type": "display_data"
    }
   ],
   "source": [
    "display(get_columns(train_data, 8364, target_columns).values)\n",
    "display(get_columns(train_data, 32299, target_columns).values)"
   ]
  },
  {
   "cell_type": "markdown",
   "metadata": {},
   "source": [
    "\"영화 '버즈 오브 프레이'는 배트맨이 없는 고담시에서 할리퀸, 헌트리스, 블랙 카나리가 힘을 합쳐 한 소녀를 구한다는 이야기다.\"\n",
    "\n",
    "id: 11511, 22258"
   ]
  },
  {
   "cell_type": "code",
   "execution_count": 37,
   "metadata": {},
   "outputs": [
    {
     "data": {
      "text/plain": [
       "array([[\"{'word': '배트맨', 'start_idx': 16, 'end_idx': 18, 'type': 'PER'}\",\n",
       "        \"{'word': '고담시', 'start_idx': 24, 'end_idx': 26, 'type': 'LOC'}\",\n",
       "        'per:place_of_residence']], dtype=object)"
      ]
     },
     "metadata": {},
     "output_type": "display_data"
    },
    {
     "data": {
      "text/plain": [
       "array([[\"{'word': '배트맨', 'start_idx': 16, 'end_idx': 18, 'type': 'PER'}\",\n",
       "        \"{'word': '고담시', 'start_idx': 24, 'end_idx': 26, 'type': 'LOC'}\",\n",
       "        'no_relation']], dtype=object)"
      ]
     },
     "metadata": {},
     "output_type": "display_data"
    }
   ],
   "source": [
    "display(get_columns(train_data, 11511, target_columns).values)\n",
    "display(get_columns(train_data, 22258, target_columns).values)"
   ]
  },
  {
   "cell_type": "markdown",
   "metadata": {},
   "source": [
    "### Train Data : Case3. sentence는 동일한데 obj/sub entity, label 이 다른 경우"
   ]
  },
  {
   "cell_type": "markdown",
   "metadata": {},
   "source": [
    "\"한편 전라남도는 최근 확진자가 발생한 순천시와 여수시에 마스크를 각각 2만장씩 총 4만장 지원했으며, 이날 확진자가 나온 광양시에도 현장상황을 감안해 적정 물량을 지원키로 했다.\"\n",
    "\n",
    "id: 4212, 25096"
   ]
  },
  {
   "cell_type": "code",
   "execution_count": 38,
   "metadata": {},
   "outputs": [
    {
     "data": {
      "text/plain": [
       "array([[\"{'word': '전라남도', 'start_idx': 3, 'end_idx': 6, 'type': 'ORG'}\",\n",
       "        \"{'word': '여수시', 'start_idx': 26, 'end_idx': 28, 'type': 'LOC'}\",\n",
       "        'org:members']], dtype=object)"
      ]
     },
     "metadata": {},
     "output_type": "display_data"
    },
    {
     "data": {
      "text/plain": [
       "array([[\"{'word': 'MBC충북', 'start_idx': 18, 'end_idx': 22, 'type': 'ORG'}\",\n",
       "        \"{'word': '충청북도', 'start_idx': 36, 'end_idx': 39, 'type': 'POH'}\",\n",
       "        'org:place_of_headquarters']], dtype=object)"
      ]
     },
     "metadata": {},
     "output_type": "display_data"
    }
   ],
   "source": [
    "display(get_columns(train_data, 4212, target_columns).values)\n",
    "display(get_columns(train_data, 25096, target_columns).values)"
   ]
  },
  {
   "cell_type": "markdown",
   "metadata": {},
   "source": [
    "# 3. 특수문자 "
   ]
  },
  {
   "cell_type": "markdown",
   "metadata": {},
   "source": [
    "한글 외에도 특수 알파벳, 한자, 일본어, 아랍어, 로마자, 키릴 문자, 수학 단위 등 발견\n",
    "\n",
    "일부 문자의 경우 entity 에도 포함이 되어 있었다\n",
    "\n",
    "한글 자음만 있는 경우도 있으나, Lv.1 때와 다르게 이름을 초성으로 표현한 경우\n",
    "\n",
    "entity 에 단어의 index 도 같이 표현되어 있기 때문에 data cealning 은 신중하게 하는 게 좋아 보인다."
   ]
  },
  {
   "cell_type": "code",
   "execution_count": 39,
   "metadata": {},
   "outputs": [
    {
     "name": "stdout",
     "output_type": "stream",
     "text": [
      "{'ن', 'Ö', '☏', '。', 'ý', '㎞', 'ت', 'ề', 'ç', 'ư', 'ب', 'ḥ', 'Á', 'ö', '㎡', 'ő', '⟫', 'ò', 'К', 'ة', 'ü', 'ह', 'Р', 'ɾ', 'В', '∙', 'ኔ', 'ف', '𥘺', 'ና', 'â', 'Θ', 'ł', '㎿', '≫', 'و', 'я', '˹', 'ہ', 'п', 'Ⅰ', 'ς', 'ī', 'γ', 'χ', 'ΐ', 'د', 'ヶ', '｣', '𑀕', '्', 'р', '°', '䄄', 'ћ', 'ê', '△', '£', 'ር', 'ῶ', 'Ῥ', 'с', 'П', '⌜', 'ን', '㈔', '▵', 'и', '○', '：', 'Д', 'µ', 'л', 'Т', 'ợ', '⁺', '′', 'é', 'Δ', 'М', 'ầ', 'Ж', 'Ž', 'ô', 'ر', 'ж', '※', 'ä', 'Ú', 'Ś', '’', 'å', 'Č', 'λ', '▲', 'Ч', 'ー', '»', 'ạ', ']', '|', 'ã', 'ʒ', 'Ⅱ', '㈜', 'ी', '▴', 'ኪ', 'э', 'у', 'α', '㎖', '⋅', '•', 'ơ', '—', 'ی', 'ц', '́', 'Š', 'ላ', '×', '℃', 'ù', 'е', 'θ', '李', 'İ', '）', '․', '·', 'ả', 'መ', 'н', 'ा', 'ш', '€', 'δ', '★', 'ȳ', '≪', 'ñ', 'ρ', '？', '・', 'І', 'Κ', 'ω', '∼', '⟪', '♡', '`', 'à', 'र', 'ج', 'б', '{', 'û', 'π', 'Β', 'ồ', 'ط', '⅔', '１', '･', 'م', '～', 'Ç', 'è', '⌟', 'न', 'ύ', 'ث', 'а', 'υ', 'ı', '³', 'в', 'ɒ', '々', 'ễ', 'Ζ', 'ｍ', '☆', 'έ', 'Х', 'ş', 'É', 'ε', 'А', '}', '䄙', 'ό', '”', '“', 'ु', 'ι', '-', 'ы', 'ć', '〈', '，', 'ậ', 'ά', 'з', 'о', 'С', 'म', 'ɪ', 'í', 'ظ', 'ل', 'ي', 'μ', 'ọ', 'š', 'Ó', 'Ⓐ', '「', 'द', '、', '↔', '\\uf09e', 'ब', 'æ', 'ν', 'ộ', '़', 'ا', '𑀥', '㫕', '«', '／', 'Ǧ', 'Л', '―', '（', '《', 'й', 'г', 'ч', '㎏', 'ē', 'Ц', 'Đ', 'ˈ', 'к', 'ㆍ', 'ڤ', 'ش', '‧', 'ㅠ', '–', 'ʁ', '®', 'ح', 'њ', 'ع', '＇', '₫', '→', 'η', '˘', 'ņ', 'κ', 'ú', 'ዘ', 'ʿ', '♥', 'ë', 'س', '』', 'Ⅲ', 'И', 'τ', '[', 'ℓ', '」', 'ί', 'ज', 'Γ', 'Ⅳ', '⅓', 'Г', 'ز', '『', '·', 'ố', 'ه', '𑀫', '=', 'σ', 'ድ', 'Α', 'Â', 'ο', '☎', 'ā', 'ū', 'Ε', 'х', 'ì', '〉', '‘', 'ё', '∞', 'т', 'ß', 'Μ', '\\u200e', '⸱', '□', '》', 'ь', 'β', '％', '˼', 'ó', '㎜', 'ك', 'д', 'ø', 'ğ', 'ï', 'Ю', '｢', 'м', 'О', 'Π', 'ệ'}\n",
      "330\n"
     ]
    }
   ],
   "source": [
    "sentences = train_data['sentence']\n",
    "is_special_character = re.compile('[^,~()\\'\\\"/_;:*$?&%<>!.A-Za-z0-9ㄱ-ㅎ가-힣一-龥ぁ-んァ-ン\\s]')\n",
    "# is_special_character = re.compile('[^()$?%!A-Za-z0-9ㄱ-ㅎ가-힣]')\n",
    "\n",
    "special_characters = set()\n",
    "\n",
    "for sentence in sentences:\n",
    "  # if len(is_special_character.findall(sentence)) != 0 :\n",
    "    # print(sentence)\n",
    "  for char in is_special_character.findall(sentence):\n",
    "    special_characters.add(char)\n",
    "\n",
    "print(special_characters)\n",
    "print(len(special_characters))"
   ]
  },
  {
   "cell_type": "code",
   "execution_count": 40,
   "metadata": {},
   "outputs": [
    {
     "name": "stdout",
     "output_type": "stream",
     "text": [
      "[CLS] 아우세클리스 ( ( Auseklis ) ( Auseklis ) ( \" [UNK] \", \" [UNK] \", \" [UNK] \", \" [UNK] \" 도 \" [UNK] \", \" [UNK] \" ) ) 라트비아 신화와 밀접하게 연결된 여명의 신이다. [SEP]\n"
     ]
    }
   ],
   "source": [
    "s = '아우세클리스 ((Auseklis)(Auseklis) (\"Auseklītis\", \" Ausekliņš \", \"Ausekliņis\", \"Ausekleņis\" 도 \"Ausekliņa\", \"Auseklītis\")) 라트비아 신화와 밀접하게 연결된 여명의 신이다.'\n",
    "# s = '한국당은 7일 오전 9시부터 오후 5시까지 진행된 원내대표 및 정책위의장 후보자 등록 마감 결과, 강석호(3선·경북 영양·영덕·봉화·울진)-이장우(재선·대전 동구), 유기준(4선·부산 서구·동구)-박성중(초선·서울 서초을), 김선동(재선·서울 도봉을)-김종석(초선·비례), 심재철(5선·경기 안양시동안구을)-김재원(3선·경북 상주·군위·의성·청송) 등 4개 조가 등록했다고 밝혔다.'\n",
    "model = 'klue/bert-base'\n",
    "tokenizer = AutoTokenizer.from_pretrained('klue/bert-base')\n",
    "print(tokenizer.decode(tokenizer.encode(s)))"
   ]
  },
  {
   "cell_type": "code",
   "execution_count": null,
   "metadata": {},
   "outputs": [],
   "source": []
  }
 ],
 "metadata": {
  "kernelspec": {
   "display_name": "Python 3",
   "language": "python",
   "name": "python3"
  },
  "language_info": {
   "codemirror_mode": {
    "name": "ipython",
    "version": 3
   },
   "file_extension": ".py",
   "mimetype": "text/x-python",
   "name": "python",
   "nbconvert_exporter": "python",
   "pygments_lexer": "ipython3",
   "version": "3.8.5"
  }
 },
 "nbformat": 4,
 "nbformat_minor": 2
}
